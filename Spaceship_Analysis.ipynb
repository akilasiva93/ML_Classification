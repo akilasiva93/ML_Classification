{
 "cells": [
  {
   "cell_type": "code",
   "execution_count": 1,
   "id": "0e1b555c",
   "metadata": {
    "_cell_guid": "b1076dfc-b9ad-4769-8c92-a6c4dae69d19",
    "_uuid": "8f2839f25d086af736a60e9eeb907d3b93b6e0e5",
    "execution": {
     "iopub.execute_input": "2023-08-11T07:38:34.825698Z",
     "iopub.status.busy": "2023-08-11T07:38:34.825268Z",
     "iopub.status.idle": "2023-08-11T07:38:34.841202Z",
     "shell.execute_reply": "2023-08-11T07:38:34.839976Z"
    },
    "papermill": {
     "duration": 0.042082,
     "end_time": "2023-08-11T07:38:34.843647",
     "exception": false,
     "start_time": "2023-08-11T07:38:34.801565",
     "status": "completed"
    },
    "tags": []
   },
   "outputs": [
    {
     "name": "stdout",
     "output_type": "stream",
     "text": [
      "/kaggle/input/titanic/train.csv\n",
      "/kaggle/input/titanic/test.csv\n",
      "/kaggle/input/titanic/gender_submission.csv\n"
     ]
    }
   ],
   "source": [
    "# This Python 3 environment comes with many helpful analytics libraries installed\n",
    "# It is defined by the kaggle/python Docker image: https://github.com/kaggle/docker-python\n",
    "# For example, here's several helpful packages to load\n",
    "\n",
    "import numpy as np # linear algebra\n",
    "import pandas as pd # data processing, CSV file I/O (e.g. pd.read_csv)\n",
    "\n",
    "# Input data files are available in the read-only \"../input/\" directory\n",
    "# For example, running this (by clicking run or pressing Shift+Enter) will list all files under the input directory\n",
    "\n",
    "import os\n",
    "for dirname, _, filenames in os.walk('/kaggle/input'):\n",
    "    for filename in filenames:\n",
    "        print(os.path.join(dirname, filename))\n",
    "\n",
    "# You can write up to 20GB to the current directory (/kaggle/working/) that gets preserved as output when you create a version using \"Save & Run All\" \n",
    "# You can also write temporary files to /kaggle/temp/, but they won't be saved outside of the current session"
   ]
  },
  {
   "cell_type": "markdown",
   "id": "84f2da9e",
   "metadata": {
    "papermill": {
     "duration": 0.020881,
     "end_time": "2023-08-11T07:38:34.885594",
     "exception": false,
     "start_time": "2023-08-11T07:38:34.864713",
     "status": "completed"
    },
    "tags": []
   },
   "source": [
    "Basic Data Analysis and Visualizations"
   ]
  },
  {
   "cell_type": "code",
   "execution_count": 2,
   "id": "b6085414",
   "metadata": {
    "execution": {
     "iopub.execute_input": "2023-08-11T07:38:34.928997Z",
     "iopub.status.busy": "2023-08-11T07:38:34.928619Z",
     "iopub.status.idle": "2023-08-11T07:38:34.963433Z",
     "shell.execute_reply": "2023-08-11T07:38:34.962043Z"
    },
    "papermill": {
     "duration": 0.060124,
     "end_time": "2023-08-11T07:38:34.966539",
     "exception": false,
     "start_time": "2023-08-11T07:38:34.906415",
     "status": "completed"
    },
    "tags": []
   },
   "outputs": [],
   "source": [
    "train_df = pd.read_csv('/kaggle/input/titanic/train.csv')\n",
    "test_df = pd.read_csv('/kaggle/input/titanic/test.csv')"
   ]
  },
  {
   "cell_type": "code",
   "execution_count": 3,
   "id": "7c875396",
   "metadata": {
    "execution": {
     "iopub.execute_input": "2023-08-11T07:38:35.009986Z",
     "iopub.status.busy": "2023-08-11T07:38:35.009537Z",
     "iopub.status.idle": "2023-08-11T07:38:35.040001Z",
     "shell.execute_reply": "2023-08-11T07:38:35.038841Z"
    },
    "papermill": {
     "duration": 0.055421,
     "end_time": "2023-08-11T07:38:35.042724",
     "exception": false,
     "start_time": "2023-08-11T07:38:34.987303",
     "status": "completed"
    },
    "tags": []
   },
   "outputs": [
    {
     "data": {
      "text/html": [
       "<div>\n",
       "<style scoped>\n",
       "    .dataframe tbody tr th:only-of-type {\n",
       "        vertical-align: middle;\n",
       "    }\n",
       "\n",
       "    .dataframe tbody tr th {\n",
       "        vertical-align: top;\n",
       "    }\n",
       "\n",
       "    .dataframe thead th {\n",
       "        text-align: right;\n",
       "    }\n",
       "</style>\n",
       "<table border=\"1\" class=\"dataframe\">\n",
       "  <thead>\n",
       "    <tr style=\"text-align: right;\">\n",
       "      <th></th>\n",
       "      <th>PassengerId</th>\n",
       "      <th>Survived</th>\n",
       "      <th>Pclass</th>\n",
       "      <th>Name</th>\n",
       "      <th>Sex</th>\n",
       "      <th>Age</th>\n",
       "      <th>SibSp</th>\n",
       "      <th>Parch</th>\n",
       "      <th>Ticket</th>\n",
       "      <th>Fare</th>\n",
       "      <th>Cabin</th>\n",
       "      <th>Embarked</th>\n",
       "    </tr>\n",
       "  </thead>\n",
       "  <tbody>\n",
       "    <tr>\n",
       "      <th>0</th>\n",
       "      <td>1</td>\n",
       "      <td>0</td>\n",
       "      <td>3</td>\n",
       "      <td>Braund, Mr. Owen Harris</td>\n",
       "      <td>male</td>\n",
       "      <td>22.0</td>\n",
       "      <td>1</td>\n",
       "      <td>0</td>\n",
       "      <td>A/5 21171</td>\n",
       "      <td>7.2500</td>\n",
       "      <td>NaN</td>\n",
       "      <td>S</td>\n",
       "    </tr>\n",
       "    <tr>\n",
       "      <th>1</th>\n",
       "      <td>2</td>\n",
       "      <td>1</td>\n",
       "      <td>1</td>\n",
       "      <td>Cumings, Mrs. John Bradley (Florence Briggs Th...</td>\n",
       "      <td>female</td>\n",
       "      <td>38.0</td>\n",
       "      <td>1</td>\n",
       "      <td>0</td>\n",
       "      <td>PC 17599</td>\n",
       "      <td>71.2833</td>\n",
       "      <td>C85</td>\n",
       "      <td>C</td>\n",
       "    </tr>\n",
       "    <tr>\n",
       "      <th>2</th>\n",
       "      <td>3</td>\n",
       "      <td>1</td>\n",
       "      <td>3</td>\n",
       "      <td>Heikkinen, Miss. Laina</td>\n",
       "      <td>female</td>\n",
       "      <td>26.0</td>\n",
       "      <td>0</td>\n",
       "      <td>0</td>\n",
       "      <td>STON/O2. 3101282</td>\n",
       "      <td>7.9250</td>\n",
       "      <td>NaN</td>\n",
       "      <td>S</td>\n",
       "    </tr>\n",
       "    <tr>\n",
       "      <th>3</th>\n",
       "      <td>4</td>\n",
       "      <td>1</td>\n",
       "      <td>1</td>\n",
       "      <td>Futrelle, Mrs. Jacques Heath (Lily May Peel)</td>\n",
       "      <td>female</td>\n",
       "      <td>35.0</td>\n",
       "      <td>1</td>\n",
       "      <td>0</td>\n",
       "      <td>113803</td>\n",
       "      <td>53.1000</td>\n",
       "      <td>C123</td>\n",
       "      <td>S</td>\n",
       "    </tr>\n",
       "    <tr>\n",
       "      <th>4</th>\n",
       "      <td>5</td>\n",
       "      <td>0</td>\n",
       "      <td>3</td>\n",
       "      <td>Allen, Mr. William Henry</td>\n",
       "      <td>male</td>\n",
       "      <td>35.0</td>\n",
       "      <td>0</td>\n",
       "      <td>0</td>\n",
       "      <td>373450</td>\n",
       "      <td>8.0500</td>\n",
       "      <td>NaN</td>\n",
       "      <td>S</td>\n",
       "    </tr>\n",
       "  </tbody>\n",
       "</table>\n",
       "</div>"
      ],
      "text/plain": [
       "   PassengerId  Survived  Pclass  \\\n",
       "0            1         0       3   \n",
       "1            2         1       1   \n",
       "2            3         1       3   \n",
       "3            4         1       1   \n",
       "4            5         0       3   \n",
       "\n",
       "                                                Name     Sex   Age  SibSp  \\\n",
       "0                            Braund, Mr. Owen Harris    male  22.0      1   \n",
       "1  Cumings, Mrs. John Bradley (Florence Briggs Th...  female  38.0      1   \n",
       "2                             Heikkinen, Miss. Laina  female  26.0      0   \n",
       "3       Futrelle, Mrs. Jacques Heath (Lily May Peel)  female  35.0      1   \n",
       "4                           Allen, Mr. William Henry    male  35.0      0   \n",
       "\n",
       "   Parch            Ticket     Fare Cabin Embarked  \n",
       "0      0         A/5 21171   7.2500   NaN        S  \n",
       "1      0          PC 17599  71.2833   C85        C  \n",
       "2      0  STON/O2. 3101282   7.9250   NaN        S  \n",
       "3      0            113803  53.1000  C123        S  \n",
       "4      0            373450   8.0500   NaN        S  "
      ]
     },
     "execution_count": 3,
     "metadata": {},
     "output_type": "execute_result"
    }
   ],
   "source": [
    "train_df.head()"
   ]
  },
  {
   "cell_type": "code",
   "execution_count": 4,
   "id": "e9262316",
   "metadata": {
    "execution": {
     "iopub.execute_input": "2023-08-11T07:38:35.087656Z",
     "iopub.status.busy": "2023-08-11T07:38:35.087245Z",
     "iopub.status.idle": "2023-08-11T07:38:35.104971Z",
     "shell.execute_reply": "2023-08-11T07:38:35.103794Z"
    },
    "papermill": {
     "duration": 0.0433,
     "end_time": "2023-08-11T07:38:35.107455",
     "exception": false,
     "start_time": "2023-08-11T07:38:35.064155",
     "status": "completed"
    },
    "tags": []
   },
   "outputs": [
    {
     "data": {
      "text/html": [
       "<div>\n",
       "<style scoped>\n",
       "    .dataframe tbody tr th:only-of-type {\n",
       "        vertical-align: middle;\n",
       "    }\n",
       "\n",
       "    .dataframe tbody tr th {\n",
       "        vertical-align: top;\n",
       "    }\n",
       "\n",
       "    .dataframe thead th {\n",
       "        text-align: right;\n",
       "    }\n",
       "</style>\n",
       "<table border=\"1\" class=\"dataframe\">\n",
       "  <thead>\n",
       "    <tr style=\"text-align: right;\">\n",
       "      <th></th>\n",
       "      <th>PassengerId</th>\n",
       "      <th>Pclass</th>\n",
       "      <th>Name</th>\n",
       "      <th>Sex</th>\n",
       "      <th>Age</th>\n",
       "      <th>SibSp</th>\n",
       "      <th>Parch</th>\n",
       "      <th>Ticket</th>\n",
       "      <th>Fare</th>\n",
       "      <th>Cabin</th>\n",
       "      <th>Embarked</th>\n",
       "    </tr>\n",
       "  </thead>\n",
       "  <tbody>\n",
       "    <tr>\n",
       "      <th>0</th>\n",
       "      <td>892</td>\n",
       "      <td>3</td>\n",
       "      <td>Kelly, Mr. James</td>\n",
       "      <td>male</td>\n",
       "      <td>34.5</td>\n",
       "      <td>0</td>\n",
       "      <td>0</td>\n",
       "      <td>330911</td>\n",
       "      <td>7.8292</td>\n",
       "      <td>NaN</td>\n",
       "      <td>Q</td>\n",
       "    </tr>\n",
       "    <tr>\n",
       "      <th>1</th>\n",
       "      <td>893</td>\n",
       "      <td>3</td>\n",
       "      <td>Wilkes, Mrs. James (Ellen Needs)</td>\n",
       "      <td>female</td>\n",
       "      <td>47.0</td>\n",
       "      <td>1</td>\n",
       "      <td>0</td>\n",
       "      <td>363272</td>\n",
       "      <td>7.0000</td>\n",
       "      <td>NaN</td>\n",
       "      <td>S</td>\n",
       "    </tr>\n",
       "    <tr>\n",
       "      <th>2</th>\n",
       "      <td>894</td>\n",
       "      <td>2</td>\n",
       "      <td>Myles, Mr. Thomas Francis</td>\n",
       "      <td>male</td>\n",
       "      <td>62.0</td>\n",
       "      <td>0</td>\n",
       "      <td>0</td>\n",
       "      <td>240276</td>\n",
       "      <td>9.6875</td>\n",
       "      <td>NaN</td>\n",
       "      <td>Q</td>\n",
       "    </tr>\n",
       "    <tr>\n",
       "      <th>3</th>\n",
       "      <td>895</td>\n",
       "      <td>3</td>\n",
       "      <td>Wirz, Mr. Albert</td>\n",
       "      <td>male</td>\n",
       "      <td>27.0</td>\n",
       "      <td>0</td>\n",
       "      <td>0</td>\n",
       "      <td>315154</td>\n",
       "      <td>8.6625</td>\n",
       "      <td>NaN</td>\n",
       "      <td>S</td>\n",
       "    </tr>\n",
       "    <tr>\n",
       "      <th>4</th>\n",
       "      <td>896</td>\n",
       "      <td>3</td>\n",
       "      <td>Hirvonen, Mrs. Alexander (Helga E Lindqvist)</td>\n",
       "      <td>female</td>\n",
       "      <td>22.0</td>\n",
       "      <td>1</td>\n",
       "      <td>1</td>\n",
       "      <td>3101298</td>\n",
       "      <td>12.2875</td>\n",
       "      <td>NaN</td>\n",
       "      <td>S</td>\n",
       "    </tr>\n",
       "  </tbody>\n",
       "</table>\n",
       "</div>"
      ],
      "text/plain": [
       "   PassengerId  Pclass                                          Name     Sex  \\\n",
       "0          892       3                              Kelly, Mr. James    male   \n",
       "1          893       3              Wilkes, Mrs. James (Ellen Needs)  female   \n",
       "2          894       2                     Myles, Mr. Thomas Francis    male   \n",
       "3          895       3                              Wirz, Mr. Albert    male   \n",
       "4          896       3  Hirvonen, Mrs. Alexander (Helga E Lindqvist)  female   \n",
       "\n",
       "    Age  SibSp  Parch   Ticket     Fare Cabin Embarked  \n",
       "0  34.5      0      0   330911   7.8292   NaN        Q  \n",
       "1  47.0      1      0   363272   7.0000   NaN        S  \n",
       "2  62.0      0      0   240276   9.6875   NaN        Q  \n",
       "3  27.0      0      0   315154   8.6625   NaN        S  \n",
       "4  22.0      1      1  3101298  12.2875   NaN        S  "
      ]
     },
     "execution_count": 4,
     "metadata": {},
     "output_type": "execute_result"
    }
   ],
   "source": [
    "test_df.head()"
   ]
  },
  {
   "cell_type": "code",
   "execution_count": 5,
   "id": "6e51a5b9",
   "metadata": {
    "execution": {
     "iopub.execute_input": "2023-08-11T07:38:35.152312Z",
     "iopub.status.busy": "2023-08-11T07:38:35.151809Z",
     "iopub.status.idle": "2023-08-11T07:38:35.181923Z",
     "shell.execute_reply": "2023-08-11T07:38:35.180726Z"
    },
    "papermill": {
     "duration": 0.055783,
     "end_time": "2023-08-11T07:38:35.184684",
     "exception": false,
     "start_time": "2023-08-11T07:38:35.128901",
     "status": "completed"
    },
    "tags": []
   },
   "outputs": [
    {
     "name": "stdout",
     "output_type": "stream",
     "text": [
      "<class 'pandas.core.frame.DataFrame'>\n",
      "RangeIndex: 891 entries, 0 to 890\n",
      "Data columns (total 12 columns):\n",
      " #   Column       Non-Null Count  Dtype  \n",
      "---  ------       --------------  -----  \n",
      " 0   PassengerId  891 non-null    int64  \n",
      " 1   Survived     891 non-null    int64  \n",
      " 2   Pclass       891 non-null    int64  \n",
      " 3   Name         891 non-null    object \n",
      " 4   Sex          891 non-null    object \n",
      " 5   Age          714 non-null    float64\n",
      " 6   SibSp        891 non-null    int64  \n",
      " 7   Parch        891 non-null    int64  \n",
      " 8   Ticket       891 non-null    object \n",
      " 9   Fare         891 non-null    float64\n",
      " 10  Cabin        204 non-null    object \n",
      " 11  Embarked     889 non-null    object \n",
      "dtypes: float64(2), int64(5), object(5)\n",
      "memory usage: 83.7+ KB\n"
     ]
    }
   ],
   "source": [
    "train_df.info()"
   ]
  },
  {
   "cell_type": "code",
   "execution_count": 6,
   "id": "e8cdb3f4",
   "metadata": {
    "execution": {
     "iopub.execute_input": "2023-08-11T07:38:35.229634Z",
     "iopub.status.busy": "2023-08-11T07:38:35.229149Z",
     "iopub.status.idle": "2023-08-11T07:38:35.268780Z",
     "shell.execute_reply": "2023-08-11T07:38:35.267688Z"
    },
    "papermill": {
     "duration": 0.065139,
     "end_time": "2023-08-11T07:38:35.271263",
     "exception": false,
     "start_time": "2023-08-11T07:38:35.206124",
     "status": "completed"
    },
    "tags": []
   },
   "outputs": [
    {
     "data": {
      "text/html": [
       "<div>\n",
       "<style scoped>\n",
       "    .dataframe tbody tr th:only-of-type {\n",
       "        vertical-align: middle;\n",
       "    }\n",
       "\n",
       "    .dataframe tbody tr th {\n",
       "        vertical-align: top;\n",
       "    }\n",
       "\n",
       "    .dataframe thead th {\n",
       "        text-align: right;\n",
       "    }\n",
       "</style>\n",
       "<table border=\"1\" class=\"dataframe\">\n",
       "  <thead>\n",
       "    <tr style=\"text-align: right;\">\n",
       "      <th></th>\n",
       "      <th>PassengerId</th>\n",
       "      <th>Survived</th>\n",
       "      <th>Pclass</th>\n",
       "      <th>Age</th>\n",
       "      <th>SibSp</th>\n",
       "      <th>Parch</th>\n",
       "      <th>Fare</th>\n",
       "    </tr>\n",
       "  </thead>\n",
       "  <tbody>\n",
       "    <tr>\n",
       "      <th>count</th>\n",
       "      <td>891.000000</td>\n",
       "      <td>891.000000</td>\n",
       "      <td>891.000000</td>\n",
       "      <td>714.000000</td>\n",
       "      <td>891.000000</td>\n",
       "      <td>891.000000</td>\n",
       "      <td>891.000000</td>\n",
       "    </tr>\n",
       "    <tr>\n",
       "      <th>mean</th>\n",
       "      <td>446.000000</td>\n",
       "      <td>0.383838</td>\n",
       "      <td>2.308642</td>\n",
       "      <td>29.699118</td>\n",
       "      <td>0.523008</td>\n",
       "      <td>0.381594</td>\n",
       "      <td>32.204208</td>\n",
       "    </tr>\n",
       "    <tr>\n",
       "      <th>std</th>\n",
       "      <td>257.353842</td>\n",
       "      <td>0.486592</td>\n",
       "      <td>0.836071</td>\n",
       "      <td>14.526497</td>\n",
       "      <td>1.102743</td>\n",
       "      <td>0.806057</td>\n",
       "      <td>49.693429</td>\n",
       "    </tr>\n",
       "    <tr>\n",
       "      <th>min</th>\n",
       "      <td>1.000000</td>\n",
       "      <td>0.000000</td>\n",
       "      <td>1.000000</td>\n",
       "      <td>0.420000</td>\n",
       "      <td>0.000000</td>\n",
       "      <td>0.000000</td>\n",
       "      <td>0.000000</td>\n",
       "    </tr>\n",
       "    <tr>\n",
       "      <th>25%</th>\n",
       "      <td>223.500000</td>\n",
       "      <td>0.000000</td>\n",
       "      <td>2.000000</td>\n",
       "      <td>20.125000</td>\n",
       "      <td>0.000000</td>\n",
       "      <td>0.000000</td>\n",
       "      <td>7.910400</td>\n",
       "    </tr>\n",
       "    <tr>\n",
       "      <th>50%</th>\n",
       "      <td>446.000000</td>\n",
       "      <td>0.000000</td>\n",
       "      <td>3.000000</td>\n",
       "      <td>28.000000</td>\n",
       "      <td>0.000000</td>\n",
       "      <td>0.000000</td>\n",
       "      <td>14.454200</td>\n",
       "    </tr>\n",
       "    <tr>\n",
       "      <th>75%</th>\n",
       "      <td>668.500000</td>\n",
       "      <td>1.000000</td>\n",
       "      <td>3.000000</td>\n",
       "      <td>38.000000</td>\n",
       "      <td>1.000000</td>\n",
       "      <td>0.000000</td>\n",
       "      <td>31.000000</td>\n",
       "    </tr>\n",
       "    <tr>\n",
       "      <th>max</th>\n",
       "      <td>891.000000</td>\n",
       "      <td>1.000000</td>\n",
       "      <td>3.000000</td>\n",
       "      <td>80.000000</td>\n",
       "      <td>8.000000</td>\n",
       "      <td>6.000000</td>\n",
       "      <td>512.329200</td>\n",
       "    </tr>\n",
       "  </tbody>\n",
       "</table>\n",
       "</div>"
      ],
      "text/plain": [
       "       PassengerId    Survived      Pclass         Age       SibSp  \\\n",
       "count   891.000000  891.000000  891.000000  714.000000  891.000000   \n",
       "mean    446.000000    0.383838    2.308642   29.699118    0.523008   \n",
       "std     257.353842    0.486592    0.836071   14.526497    1.102743   \n",
       "min       1.000000    0.000000    1.000000    0.420000    0.000000   \n",
       "25%     223.500000    0.000000    2.000000   20.125000    0.000000   \n",
       "50%     446.000000    0.000000    3.000000   28.000000    0.000000   \n",
       "75%     668.500000    1.000000    3.000000   38.000000    1.000000   \n",
       "max     891.000000    1.000000    3.000000   80.000000    8.000000   \n",
       "\n",
       "            Parch        Fare  \n",
       "count  891.000000  891.000000  \n",
       "mean     0.381594   32.204208  \n",
       "std      0.806057   49.693429  \n",
       "min      0.000000    0.000000  \n",
       "25%      0.000000    7.910400  \n",
       "50%      0.000000   14.454200  \n",
       "75%      0.000000   31.000000  \n",
       "max      6.000000  512.329200  "
      ]
     },
     "execution_count": 6,
     "metadata": {},
     "output_type": "execute_result"
    }
   ],
   "source": [
    "train_df.describe()"
   ]
  },
  {
   "cell_type": "code",
   "execution_count": 7,
   "id": "88193e0a",
   "metadata": {
    "execution": {
     "iopub.execute_input": "2023-08-11T07:38:35.316384Z",
     "iopub.status.busy": "2023-08-11T07:38:35.315981Z",
     "iopub.status.idle": "2023-08-11T07:38:35.321772Z",
     "shell.execute_reply": "2023-08-11T07:38:35.320556Z"
    },
    "papermill": {
     "duration": 0.031853,
     "end_time": "2023-08-11T07:38:35.324656",
     "exception": false,
     "start_time": "2023-08-11T07:38:35.292803",
     "status": "completed"
    },
    "tags": []
   },
   "outputs": [
    {
     "name": "stdout",
     "output_type": "stream",
     "text": [
      "(891, 12) (418, 11)\n"
     ]
    }
   ],
   "source": [
    "print(train_df.shape,test_df.shape)"
   ]
  },
  {
   "cell_type": "markdown",
   "id": "a725438c",
   "metadata": {
    "papermill": {
     "duration": 0.021756,
     "end_time": "2023-08-11T07:38:35.368053",
     "exception": false,
     "start_time": "2023-08-11T07:38:35.346297",
     "status": "completed"
    },
    "tags": []
   },
   "source": [
    "61 percent people did not survive. Only 38 percent people survived."
   ]
  },
  {
   "cell_type": "code",
   "execution_count": 8,
   "id": "f5b34249",
   "metadata": {
    "execution": {
     "iopub.execute_input": "2023-08-11T07:38:35.413359Z",
     "iopub.status.busy": "2023-08-11T07:38:35.412960Z",
     "iopub.status.idle": "2023-08-11T07:38:35.636846Z",
     "shell.execute_reply": "2023-08-11T07:38:35.635181Z"
    },
    "papermill": {
     "duration": 0.251546,
     "end_time": "2023-08-11T07:38:35.641301",
     "exception": false,
     "start_time": "2023-08-11T07:38:35.389755",
     "status": "completed"
    },
    "tags": []
   },
   "outputs": [
    {
     "data": {
      "text/plain": [
       "<Axes: title={'center': 'Survival Distribution'}, ylabel='Survived'>"
      ]
     },
     "execution_count": 8,
     "metadata": {},
     "output_type": "execute_result"
    },
    {
     "data": {
      "image/png": "[encoded data removed]",
      "text/plain": [
       "<Figure size 640x480 with 1 Axes>"
      ]
     },
     "metadata": {},
     "output_type": "display_data"
    }
   ],
   "source": [
    "survived_df=train_df['Survived'].value_counts()\n",
    "survived_df.plot(kind='pie',autopct='%1.1f%%',title='Survival Distribution')\n",
    "\n"
   ]
  },
  {
   "cell_type": "code",
   "execution_count": 9,
   "id": "8a5aebbe",
   "metadata": {
    "execution": {
     "iopub.execute_input": "2023-08-11T07:38:35.710751Z",
     "iopub.status.busy": "2023-08-11T07:38:35.710067Z",
     "iopub.status.idle": "2023-08-11T07:38:35.717485Z",
     "shell.execute_reply": "2023-08-11T07:38:35.716605Z"
    },
    "papermill": {
     "duration": 0.033451,
     "end_time": "2023-08-11T07:38:35.719645",
     "exception": false,
     "start_time": "2023-08-11T07:38:35.686194",
     "status": "completed"
    },
    "tags": []
   },
   "outputs": [
    {
     "data": {
      "text/plain": [
       "3    491\n",
       "1    216\n",
       "2    184\n",
       "Name: Pclass, dtype: int64"
      ]
     },
     "execution_count": 9,
     "metadata": {},
     "output_type": "execute_result"
    }
   ],
   "source": [
    "train_df['Pclass'].value_counts()"
   ]
  },
  {
   "cell_type": "code",
   "execution_count": 10,
   "id": "ee03d0fe",
   "metadata": {
    "execution": {
     "iopub.execute_input": "2023-08-11T07:38:35.767622Z",
     "iopub.status.busy": "2023-08-11T07:38:35.766399Z",
     "iopub.status.idle": "2023-08-11T07:38:35.788774Z",
     "shell.execute_reply": "2023-08-11T07:38:35.786951Z"
    },
    "papermill": {
     "duration": 0.049172,
     "end_time": "2023-08-11T07:38:35.791291",
     "exception": false,
     "start_time": "2023-08-11T07:38:35.742119",
     "status": "completed"
    },
    "tags": []
   },
   "outputs": [
    {
     "name": "stdout",
     "output_type": "stream",
     "text": [
      "Pclass\n",
      "1    136\n",
      "2     87\n",
      "3    119\n",
      "Name: Survived, dtype: int64\n",
      "Pclass\n",
      "1     80\n",
      "2     97\n",
      "3    372\n",
      "Name: Survived, dtype: int64\n",
      "Pclass\n",
      "1    62.962963\n",
      "2    47.282609\n",
      "3    24.236253\n",
      "Name: Survived, dtype: float64\n"
     ]
    }
   ],
   "source": [
    "import matplotlib.pyplot as plt\n",
    "\n",
    "train_df.groupby('Pclass').count()\n",
    "print(train_df[train_df['Survived']==1].groupby('Pclass')['Survived'].count())\n",
    "print(train_df[train_df['Survived']==0].groupby('Pclass')['Survived'].count())\n",
    "print(train_df.groupby('Pclass')['Survived'].mean()*100)"
   ]
  },
  {
   "cell_type": "markdown",
   "id": "d0906213",
   "metadata": {
    "papermill": {
     "duration": 0.022426,
     "end_time": "2023-08-11T07:38:35.836423",
     "exception": false,
     "start_time": "2023-08-11T07:38:35.813997",
     "status": "completed"
    },
    "tags": []
   },
   "source": [
    "Observation:\n",
    "62 percent who travelled in first class survived.\n",
    "47 percent who travelled in second class survived.\n",
    "24 percent who travelled in third class survived.\n"
   ]
  },
  {
   "cell_type": "code",
   "execution_count": 11,
   "id": "753c6667",
   "metadata": {
    "execution": {
     "iopub.execute_input": "2023-08-11T07:38:35.883705Z",
     "iopub.status.busy": "2023-08-11T07:38:35.883251Z",
     "iopub.status.idle": "2023-08-11T07:38:36.231709Z",
     "shell.execute_reply": "2023-08-11T07:38:36.230536Z"
    },
    "papermill": {
     "duration": 0.374936,
     "end_time": "2023-08-11T07:38:36.234265",
     "exception": false,
     "start_time": "2023-08-11T07:38:35.859329",
     "status": "completed"
    },
    "tags": []
   },
   "outputs": [
    {
     "data": {
      "text/plain": [
       "<matplotlib.legend.Legend at 0x7ce540cfff70>"
      ]
     },
     "execution_count": 11,
     "metadata": {},
     "output_type": "execute_result"
    },
    {
     "data": {
      "image/png": "[encoded data removed]",
      "text/plain": [
       "<Figure size 640x480 with 1 Axes>"
      ]
     },
     "metadata": {},
     "output_type": "display_data"
    }
   ],
   "source": [
    "pclass_df = train_df.groupby('Pclass')['Survived'].mean()*100\n",
    "ax=pclass_df.plot(x='Pclass',kind='bar')\n",
    "for i, v in enumerate(pclass_df):\n",
    "    ax.text(i, v + 1, f\"{v:.2f}%\", ha='center', va='bottom', fontsize=8)\n",
    "\n",
    "plt.xlabel(\"PClass\")\n",
    "plt.ylabel(\"Percentage\")\n",
    "plt.title(\"Survial Rate based on PClass\")\n",
    "plt.legend([\"Survival Rate\"])"
   ]
  },
  {
   "cell_type": "code",
   "execution_count": 12,
   "id": "545d9012",
   "metadata": {
    "execution": {
     "iopub.execute_input": "2023-08-11T07:38:36.282399Z",
     "iopub.status.busy": "2023-08-11T07:38:36.281977Z",
     "iopub.status.idle": "2023-08-11T07:38:36.293920Z",
     "shell.execute_reply": "2023-08-11T07:38:36.292450Z"
    },
    "papermill": {
     "duration": 0.039387,
     "end_time": "2023-08-11T07:38:36.296694",
     "exception": false,
     "start_time": "2023-08-11T07:38:36.257307",
     "status": "completed"
    },
    "tags": []
   },
   "outputs": [
    {
     "name": "stdout",
     "output_type": "stream",
     "text": [
      "Sex\n",
      "female    0.742038\n",
      "male      0.188908\n",
      "Name: Survived, dtype: float64\n",
      "Sex\n",
      "female    314\n",
      "male      577\n",
      "Name: Survived, dtype: int64\n",
      "Sex\n",
      "female    233\n",
      "male      109\n",
      "Name: Survived, dtype: int64\n"
     ]
    }
   ],
   "source": [
    "print(train_df.groupby('Sex')['Survived'].mean())\n",
    "print(train_df.groupby('Sex')['Survived'].count())\n",
    "print(train_df.groupby('Sex')['Survived'].sum())"
   ]
  },
  {
   "cell_type": "markdown",
   "id": "0106b7e5",
   "metadata": {
    "papermill": {
     "duration": 0.023647,
     "end_time": "2023-08-11T07:38:36.343726",
     "exception": false,
     "start_time": "2023-08-11T07:38:36.320079",
     "status": "completed"
    },
    "tags": []
   },
   "source": [
    "Out of 314 female passengers, 233 female passengers survived(74 percent).\n",
    "Out of 577 male passengers, only 109 male passengers survived(19 percent)."
   ]
  },
  {
   "cell_type": "code",
   "execution_count": 13,
   "id": "ad6cad61",
   "metadata": {
    "execution": {
     "iopub.execute_input": "2023-08-11T07:38:36.392362Z",
     "iopub.status.busy": "2023-08-11T07:38:36.391956Z",
     "iopub.status.idle": "2023-08-11T07:38:36.677451Z",
     "shell.execute_reply": "2023-08-11T07:38:36.676564Z"
    },
    "papermill": {
     "duration": 0.312215,
     "end_time": "2023-08-11T07:38:36.679745",
     "exception": false,
     "start_time": "2023-08-11T07:38:36.367530",
     "status": "completed"
    },
    "tags": []
   },
   "outputs": [
    {
     "data": {
      "image/png": "[encoded data removed]",
      "text/plain": [
       "<Figure size 640x480 with 1 Axes>"
      ]
     },
     "metadata": {},
     "output_type": "display_data"
    }
   ],
   "source": [
    "sex_df = train_df.groupby('Sex')['Survived'].mean()*100\n",
    "ax=sex_df.plot(x=\"Sex\",kind='bar')\n",
    "for i, v in enumerate(sex_df):\n",
    "    ax.text(i, v + 1, f\"{v:.2f}%\", ha='center', va='bottom', fontsize=8)\n",
    "plt.title(\"Gender Survial Rate\")\n",
    "plt.show()\n"
   ]
  },
  {
   "cell_type": "markdown",
   "id": "edead67f",
   "metadata": {
    "papermill": {
     "duration": 0.023623,
     "end_time": "2023-08-11T07:38:36.727570",
     "exception": false,
     "start_time": "2023-08-11T07:38:36.703947",
     "status": "completed"
    },
    "tags": []
   },
   "source": [
    "\n",
    "**Female who travelled by 1st class** survived the most.\n",
    "Male who travelled by 3rd class survived the least."
   ]
  },
  {
   "cell_type": "code",
   "execution_count": 14,
   "id": "a999fd37",
   "metadata": {
    "execution": {
     "iopub.execute_input": "2023-08-11T07:38:36.777144Z",
     "iopub.status.busy": "2023-08-11T07:38:36.775974Z",
     "iopub.status.idle": "2023-08-11T07:38:37.253307Z",
     "shell.execute_reply": "2023-08-11T07:38:37.251912Z"
    },
    "papermill": {
     "duration": 0.504871,
     "end_time": "2023-08-11T07:38:37.255947",
     "exception": false,
     "start_time": "2023-08-11T07:38:36.751076",
     "status": "completed"
    },
    "tags": []
   },
   "outputs": [
    {
     "data": {
      "image/png": "[encoded data removed]",
      "text/plain": [
       "<Figure size 640x480 with 1 Axes>"
      ]
     },
     "metadata": {},
     "output_type": "display_data"
    }
   ],
   "source": [
    "spclass_df = train_df.groupby(['Sex','Pclass'])['Survived'].mean()*100\n",
    "pivot_table = spclass_df.unstack()\n",
    "ax = pivot_table.plot(kind='bar')\n",
    "plt.xlabel('Sex')\n",
    "plt.ylabel('Survival Rate')\n",
    "plt.title('Survival Rate by Sex and Pclass')\n",
    "\n",
    "# Set the legend\n",
    "plt.legend(title='Pclass', labels=['1st Class', '2nd Class', '3rd Class'])\n",
    "\n",
    "for column in pivot_table.columns:\n",
    "    ax.bar_label(ax.containers[pivot_table.columns.get_loc(column)], fmt='%.2f', label_type='edge')\n",
    "# Show the plot\n",
    "plt.show()"
   ]
  },
  {
   "cell_type": "markdown",
   "id": "126942d1",
   "metadata": {
    "papermill": {
     "duration": 0.023794,
     "end_time": "2023-08-11T07:38:37.304225",
     "exception": false,
     "start_time": "2023-08-11T07:38:37.280431",
     "status": "completed"
    },
    "tags": []
   },
   "source": [
    "Passengers who travelled with their Family(Siblings/Spouse, with Parents or Kids). "
   ]
  },
  {
   "cell_type": "code",
   "execution_count": 15,
   "id": "90d1cb30",
   "metadata": {
    "execution": {
     "iopub.execute_input": "2023-08-11T07:38:37.354625Z",
     "iopub.status.busy": "2023-08-11T07:38:37.354221Z",
     "iopub.status.idle": "2023-08-11T07:38:37.710623Z",
     "shell.execute_reply": "2023-08-11T07:38:37.709307Z"
    },
    "papermill": {
     "duration": 0.384877,
     "end_time": "2023-08-11T07:38:37.713342",
     "exception": false,
     "start_time": "2023-08-11T07:38:37.328465",
     "status": "completed"
    },
    "tags": []
   },
   "outputs": [
    {
     "data": {
      "image/png": "[encoded data removed]",
      "text/plain": [
       "<Figure size 640x480 with 1 Axes>"
      ]
     },
     "metadata": {},
     "output_type": "display_data"
    }
   ],
   "source": [
    "sibtot_df = train_df.groupby('SibSp')['Survived'].count()\n",
    "sibsur_df = train_df.groupby('SibSp')['Survived'].sum()\n",
    "\n",
    "fig, ax = plt.subplots()\n",
    "\n",
    "# Plotting the first bar plot\n",
    "sibtot_df.plot(x='Sibling Count', kind='bar', ax=ax, position=1, width=0.4, label='Total Passengers',color='red')\n",
    "\n",
    "# Plotting the second bar plot\n",
    "sibsur_df.plot(x='Sibling Count', kind='bar', ax=ax, position=0, width=0.4, label='Survived Passengers',color='blue')\n",
    "\n",
    "\n",
    "ax.set_xlabel(\"Sibling Count\")\n",
    "ax.set_ylabel(\"Count\")\n",
    "ax.set_title(\"Passengers Travelled with Siblings Survived vs Not Survived\")\n",
    "ax.legend()\n",
    "\n",
    "plt.show()"
   ]
  },
  {
   "cell_type": "code",
   "execution_count": 16,
   "id": "a66af9a6",
   "metadata": {
    "execution": {
     "iopub.execute_input": "2023-08-11T07:38:37.765407Z",
     "iopub.status.busy": "2023-08-11T07:38:37.764993Z",
     "iopub.status.idle": "2023-08-11T07:38:38.135361Z",
     "shell.execute_reply": "2023-08-11T07:38:38.134361Z"
    },
    "papermill": {
     "duration": 0.399147,
     "end_time": "2023-08-11T07:38:38.137630",
     "exception": false,
     "start_time": "2023-08-11T07:38:37.738483",
     "status": "completed"
    },
    "tags": []
   },
   "outputs": [
    {
     "data": {
      "image/png": "[encoded data removed]",
      "text/plain": [
       "<Figure size 1000x600 with 1 Axes>"
      ]
     },
     "metadata": {},
     "output_type": "display_data"
    }
   ],
   "source": [
    "partot_df = train_df.groupby('Parch')['Survived'].count()\n",
    "parsur_df = train_df.groupby('Parch')['Survived'].sum()\n",
    "\n",
    "fig, ax = plt.subplots(figsize=(10,6))\n",
    "\n",
    "# Plotting the first bar plot\n",
    "partot_df.plot(x='Parch', kind='bar', ax=ax, position=1, width=0.4, label='Total Passengers',color='red')\n",
    "\n",
    "# Plotting the second bar plot\n",
    "parsur_df.plot(x='Parch', kind='bar', ax=ax, position=0, width=0.4, label='Survived Passengers',color='blue')\n",
    "\n",
    "\n",
    "ax.set_xlabel(\"Parch\")\n",
    "ax.set_ylabel(\"Count\")\n",
    "ax.set_title(\"Passengers Travelled with Parents & Kids Survived vs Not Survived\")\n",
    "ax.legend()\n",
    "\n",
    "plt.show()"
   ]
  },
  {
   "cell_type": "markdown",
   "id": "2ae130fa",
   "metadata": {
    "papermill": {
     "duration": 0.02584,
     "end_time": "2023-08-11T07:38:38.188884",
     "exception": false,
     "start_time": "2023-08-11T07:38:38.163044",
     "status": "completed"
    },
    "tags": []
   },
   "source": [
    "The Passengers count is skewed between 20 to 40"
   ]
  },
  {
   "cell_type": "code",
   "execution_count": 17,
   "id": "293fb799",
   "metadata": {
    "execution": {
     "iopub.execute_input": "2023-08-11T07:38:38.242169Z",
     "iopub.status.busy": "2023-08-11T07:38:38.241401Z",
     "iopub.status.idle": "2023-08-11T07:38:38.569661Z",
     "shell.execute_reply": "2023-08-11T07:38:38.568296Z"
    },
    "papermill": {
     "duration": 0.357998,
     "end_time": "2023-08-11T07:38:38.572447",
     "exception": false,
     "start_time": "2023-08-11T07:38:38.214449",
     "status": "completed"
    },
    "tags": []
   },
   "outputs": [
    {
     "data": {
      "text/plain": [
       "<Axes: ylabel='Frequency'>"
      ]
     },
     "execution_count": 17,
     "metadata": {},
     "output_type": "execute_result"
    },
    {
     "data": {
      "image/png": "[encoded data removed]",
      "text/plain": [
       "<Figure size 640x480 with 1 Axes>"
      ]
     },
     "metadata": {},
     "output_type": "display_data"
    }
   ],
   "source": [
    "train_df['Age'].plot(kind='hist')"
   ]
  },
  {
   "cell_type": "code",
   "execution_count": 18,
   "id": "687bd5e4",
   "metadata": {
    "execution": {
     "iopub.execute_input": "2023-08-11T07:38:38.627411Z",
     "iopub.status.busy": "2023-08-11T07:38:38.626774Z",
     "iopub.status.idle": "2023-08-11T07:38:38.633872Z",
     "shell.execute_reply": "2023-08-11T07:38:38.632899Z"
    },
    "papermill": {
     "duration": 0.037881,
     "end_time": "2023-08-11T07:38:38.636287",
     "exception": false,
     "start_time": "2023-08-11T07:38:38.598406",
     "status": "completed"
    },
    "tags": []
   },
   "outputs": [],
   "source": [
    "age_df = train_df.groupby('Age')['Survived'].mean()\n",
    "age_df = age_df.reset_index(name='Survived')\n",
    "\n"
   ]
  },
  {
   "cell_type": "markdown",
   "id": "1674e7ad",
   "metadata": {
    "papermill": {
     "duration": 0.025855,
     "end_time": "2023-08-11T07:38:38.688092",
     "exception": false,
     "start_time": "2023-08-11T07:38:38.662237",
     "status": "completed"
    },
    "tags": []
   },
   "source": [
    "Survival Rate based on the Age Group****"
   ]
  },
  {
   "cell_type": "code",
   "execution_count": 19,
   "id": "dcc064f0",
   "metadata": {
    "execution": {
     "iopub.execute_input": "2023-08-11T07:38:38.742102Z",
     "iopub.status.busy": "2023-08-11T07:38:38.741631Z",
     "iopub.status.idle": "2023-08-11T07:38:39.064951Z",
     "shell.execute_reply": "2023-08-11T07:38:39.063713Z"
    },
    "papermill": {
     "duration": 0.353419,
     "end_time": "2023-08-11T07:38:39.067786",
     "exception": false,
     "start_time": "2023-08-11T07:38:38.714367",
     "status": "completed"
    },
    "tags": []
   },
   "outputs": [
    {
     "data": {
      "image/png": "[encoded data removed]",
      "text/plain": [
       "<Figure size 1000x600 with 1 Axes>"
      ]
     },
     "metadata": {},
     "output_type": "display_data"
    }
   ],
   "source": [
    "bins = [0, 10, 20, 30, 40, 50, 60, 70, 80]\n",
    "\n",
    "# Assign labels to age bins\n",
    "age_labels = ['0-10', '11-20', '21-30', '31-40', '41-50', '51-60', '61-70', '71-80']\n",
    "\n",
    "# Group by age bins and calculate mean survival rate\n",
    "age_df['AgeGroup'] = pd.cut(train_df['Age'], bins=bins, labels=age_labels, right=False)\n",
    "age_grouped = age_df.groupby('AgeGroup')['Survived'].mean()*100\n",
    "\n",
    "plt.figure(figsize=(10, 6))  # Adjust figsize as needed\n",
    "age_grouped.plot(kind='bar')\n",
    "plt.xlabel(\"Age Group\")\n",
    "plt.ylabel(\"Survival Rate\")\n",
    "plt.title(\"Survival Rate based on Age Group\")\n",
    "plt.xticks(rotation=45)\n",
    "plt.show()"
   ]
  },
  {
   "cell_type": "markdown",
   "id": "7b922a25",
   "metadata": {
    "papermill": {
     "duration": 0.026516,
     "end_time": "2023-08-11T07:38:39.121802",
     "exception": false,
     "start_time": "2023-08-11T07:38:39.095286",
     "status": "completed"
    },
    "tags": []
   },
   "source": [
    "Fare Distributin and its Relation with Survival. \n",
    "The people who paid the most, survived."
   ]
  },
  {
   "cell_type": "code",
   "execution_count": 20,
   "id": "81a8d128",
   "metadata": {
    "execution": {
     "iopub.execute_input": "2023-08-11T07:38:39.177951Z",
     "iopub.status.busy": "2023-08-11T07:38:39.177518Z",
     "iopub.status.idle": "2023-08-11T07:38:40.905850Z",
     "shell.execute_reply": "2023-08-11T07:38:40.904943Z"
    },
    "papermill": {
     "duration": 1.760074,
     "end_time": "2023-08-11T07:38:40.908467",
     "exception": false,
     "start_time": "2023-08-11T07:38:39.148393",
     "status": "completed"
    },
    "tags": []
   },
   "outputs": [
    {
     "name": "stderr",
     "output_type": "stream",
     "text": [
      "/opt/conda/lib/python3.10/site-packages/scipy/__init__.py:146: UserWarning: A NumPy version >=1.16.5 and <1.23.0 is required for this version of SciPy (detected version 1.23.5\n",
      "  warnings.warn(f\"A NumPy version >={np_minversion} and <{np_maxversion}\"\n"
     ]
    },
    {
     "data": {
      "image/png": "[encoded data removed]",
      "text/plain": [
       "<Figure size 1000x600 with 1 Axes>"
      ]
     },
     "metadata": {},
     "output_type": "display_data"
    }
   ],
   "source": [
    "import seaborn as sns\n",
    "import matplotlib.pyplot as plt\n",
    "\n",
    "plt.figure(figsize=(10, 6))  # Adjust figsize as needed\n",
    "\n",
    "sns.violinplot(x=train_df['Survived'], y=train_df['Fare'], palette='Set1')\n",
    "plt.xlabel(\"Survived\")\n",
    "plt.ylabel(\"Fare\")\n",
    "plt.title(\"Distribution of Fare based on Survival\")\n",
    "plt.xticks([0, 1], ['Not Survived', 'Survived'])\n",
    "\n",
    "plt.show()\n"
   ]
  },
  {
   "cell_type": "code",
   "execution_count": 21,
   "id": "bbf528bf",
   "metadata": {
    "execution": {
     "iopub.execute_input": "2023-08-11T07:38:40.965421Z",
     "iopub.status.busy": "2023-08-11T07:38:40.964193Z",
     "iopub.status.idle": "2023-08-11T07:39:01.117822Z",
     "shell.execute_reply": "2023-08-11T07:39:01.116601Z"
    },
    "papermill": {
     "duration": 20.184811,
     "end_time": "2023-08-11T07:39:01.120331",
     "exception": false,
     "start_time": "2023-08-11T07:38:40.935520",
     "status": "completed"
    },
    "tags": []
   },
   "outputs": [
    {
     "name": "stderr",
     "output_type": "stream",
     "text": [
      "/tmp/ipykernel_20/1342839968.py:6: FutureWarning: Passing `palette` without assigning `hue` is deprecated.\n",
      "  sns.swarmplot(x=train_df['Survived'], y=train_df['Fare'], palette='Set1', alpha=0.7)\n",
      "/opt/conda/lib/python3.10/site-packages/seaborn/categorical.py:3544: UserWarning: 42.1% of the points cannot be placed; you may want to decrease the size of the markers or use stripplot.\n",
      "  warnings.warn(msg, UserWarning)\n",
      "/opt/conda/lib/python3.10/site-packages/seaborn/categorical.py:3544: UserWarning: 9.4% of the points cannot be placed; you may want to decrease the size of the markers or use stripplot.\n",
      "  warnings.warn(msg, UserWarning)\n",
      "/opt/conda/lib/python3.10/site-packages/seaborn/categorical.py:3544: UserWarning: 57.4% of the points cannot be placed; you may want to decrease the size of the markers or use stripplot.\n",
      "  warnings.warn(msg, UserWarning)\n",
      "/opt/conda/lib/python3.10/site-packages/seaborn/categorical.py:3544: UserWarning: 24.9% of the points cannot be placed; you may want to decrease the size of the markers or use stripplot.\n",
      "  warnings.warn(msg, UserWarning)\n"
     ]
    },
    {
     "data": {
      "image/png": "[encoded data removed]",
      "text/plain": [
       "<Figure size 1000x600 with 1 Axes>"
      ]
     },
     "metadata": {},
     "output_type": "display_data"
    }
   ],
   "source": [
    "import seaborn as sns\n",
    "import matplotlib.pyplot as plt\n",
    "\n",
    "plt.figure(figsize=(10, 6))  # Adjust figsize as needed\n",
    "\n",
    "sns.swarmplot(x=train_df['Survived'], y=train_df['Fare'], palette='Set1', alpha=0.7)\n",
    "plt.xlabel(\"Survived\")\n",
    "plt.ylabel(\"Fare\")\n",
    "plt.title(\"Distribution of Fare based on Survival\")\n",
    "plt.xticks([0, 1], ['Not Survived', 'Survived'])\n",
    "\n",
    "plt.show()"
   ]
  },
  {
   "cell_type": "markdown",
   "id": "7b5976f0",
   "metadata": {
    "papermill": {
     "duration": 0.028695,
     "end_time": "2023-08-11T07:39:01.178857",
     "exception": false,
     "start_time": "2023-08-11T07:39:01.150162",
     "status": "completed"
    },
    "tags": []
   },
   "source": [
    "Passengers who embarked from 'S' Port has good survival Rate.****"
   ]
  },
  {
   "cell_type": "code",
   "execution_count": 22,
   "id": "c6450b10",
   "metadata": {
    "execution": {
     "iopub.execute_input": "2023-08-11T07:39:01.239560Z",
     "iopub.status.busy": "2023-08-11T07:39:01.238822Z",
     "iopub.status.idle": "2023-08-11T07:39:01.520314Z",
     "shell.execute_reply": "2023-08-11T07:39:01.519451Z"
    },
    "papermill": {
     "duration": 0.314694,
     "end_time": "2023-08-11T07:39:01.522850",
     "exception": false,
     "start_time": "2023-08-11T07:39:01.208156",
     "status": "completed"
    },
    "tags": []
   },
   "outputs": [
    {
     "name": "stderr",
     "output_type": "stream",
     "text": [
      "/tmp/ipykernel_20/3996486845.py:3: FutureWarning: \n",
      "\n",
      "The `ci` parameter is deprecated. Use `errorbar='sd'` for the same effect.\n",
      "\n",
      "  sns.pointplot(x='Embarked', y='Survived', data=train_df, ci='sd', palette='Set1')\n"
     ]
    },
    {
     "data": {
      "image/png": "[encoded data removed]",
      "text/plain": [
       "<Figure size 1000x600 with 1 Axes>"
      ]
     },
     "metadata": {},
     "output_type": "display_data"
    }
   ],
   "source": [
    "plt.figure(figsize=(10, 6))  # Adjust figsize as needed\n",
    "\n",
    "sns.pointplot(x='Embarked', y='Survived', data=train_df, ci='sd', palette='Set1')\n",
    "plt.xlabel(\"Embarked\")\n",
    "plt.ylabel(\"Mean Survival Rate\")\n",
    "plt.title(\"Mean Survival Rate based on Embarked Port\")\n",
    "\n",
    "\n",
    "plt.show()"
   ]
  },
  {
   "cell_type": "code",
   "execution_count": 23,
   "id": "7a360d5f",
   "metadata": {
    "execution": {
     "iopub.execute_input": "2023-08-11T07:39:01.602850Z",
     "iopub.status.busy": "2023-08-11T07:39:01.601963Z",
     "iopub.status.idle": "2023-08-11T07:39:01.949231Z",
     "shell.execute_reply": "2023-08-11T07:39:01.947982Z"
    },
    "papermill": {
     "duration": 0.390655,
     "end_time": "2023-08-11T07:39:01.952030",
     "exception": false,
     "start_time": "2023-08-11T07:39:01.561375",
     "status": "completed"
    },
    "tags": []
   },
   "outputs": [
    {
     "name": "stdout",
     "output_type": "stream",
     "text": [
      "Sex     Embarked\n",
      "female  C           87.671233\n",
      "        Q           75.000000\n",
      "        S           68.965517\n",
      "male    C           30.526316\n",
      "        Q            7.317073\n",
      "        S           17.460317\n",
      "Name: Survived, dtype: float64\n"
     ]
    },
    {
     "data": {
      "image/png": "[encoded data removed]",
      "text/plain": [
       "<Figure size 640x480 with 1 Axes>"
      ]
     },
     "metadata": {},
     "output_type": "display_data"
    }
   ],
   "source": [
    "semba_df = train_df.groupby(['Sex','Embarked'])['Survived'].mean()*100\n",
    "print(semba_df)\n",
    "pivot_table = semba_df.unstack()\n",
    "ax = pivot_table.plot(kind='bar')\n",
    "plt.xlabel('Sex')\n",
    "plt.ylabel('Survival Rate')\n",
    "plt.title('Survival Rate by Sex and Embarked')\n",
    "\n",
    "# Set the legend\n",
    "plt.legend(title='Embarked', labels=['C', 'Q', 'S'])\n",
    "\n",
    "for column in pivot_table.columns:\n",
    "    ax.bar_label(ax.containers[pivot_table.columns.get_loc(column)], fmt='%.2f', label_type='edge')\n",
    "# Show the plot\n",
    "plt.show()"
   ]
  },
  {
   "cell_type": "code",
   "execution_count": 24,
   "id": "31664f68",
   "metadata": {
    "execution": {
     "iopub.execute_input": "2023-08-11T07:39:02.014873Z",
     "iopub.status.busy": "2023-08-11T07:39:02.014433Z",
     "iopub.status.idle": "2023-08-11T07:39:02.354492Z",
     "shell.execute_reply": "2023-08-11T07:39:02.353536Z"
    },
    "papermill": {
     "duration": 0.37465,
     "end_time": "2023-08-11T07:39:02.356727",
     "exception": false,
     "start_time": "2023-08-11T07:39:01.982077",
     "status": "completed"
    },
    "tags": []
   },
   "outputs": [
    {
     "data": {
      "image/png": "[encoded data removed]",
      "text/plain": [
       "<Figure size 640x480 with 2 Axes>"
      ]
     },
     "metadata": {},
     "output_type": "display_data"
    }
   ],
   "source": [
    "sns.heatmap(pivot_table, annot=True, cmap='YlGnBu', fmt=\".2f\")\n",
    "\n",
    "plt.xlabel('Embarked')\n",
    "plt.ylabel('Sex')\n",
    "plt.title('Survival Rate by Sex and Embarked')\n",
    "\n",
    "plt.show()"
   ]
  },
  {
   "cell_type": "code",
   "execution_count": 25,
   "id": "a943037e",
   "metadata": {
    "execution": {
     "iopub.execute_input": "2023-08-11T07:39:02.420198Z",
     "iopub.status.busy": "2023-08-11T07:39:02.419418Z",
     "iopub.status.idle": "2023-08-11T07:39:02.437995Z",
     "shell.execute_reply": "2023-08-11T07:39:02.437174Z"
    },
    "papermill": {
     "duration": 0.053363,
     "end_time": "2023-08-11T07:39:02.440420",
     "exception": false,
     "start_time": "2023-08-11T07:39:02.387057",
     "status": "completed"
    },
    "tags": []
   },
   "outputs": [
    {
     "name": "stderr",
     "output_type": "stream",
     "text": [
      "/tmp/ipykernel_20/1233823885.py:1: FutureWarning: The default value of numeric_only in DataFrame.corr is deprecated. In a future version, it will default to False. Select only valid columns or specify the value of numeric_only to silence this warning.\n",
      "  train_df.corr()\n"
     ]
    },
    {
     "data": {
      "text/html": [
       "<div>\n",
       "<style scoped>\n",
       "    .dataframe tbody tr th:only-of-type {\n",
       "        vertical-align: middle;\n",
       "    }\n",
       "\n",
       "    .dataframe tbody tr th {\n",
       "        vertical-align: top;\n",
       "    }\n",
       "\n",
       "    .dataframe thead th {\n",
       "        text-align: right;\n",
       "    }\n",
       "</style>\n",
       "<table border=\"1\" class=\"dataframe\">\n",
       "  <thead>\n",
       "    <tr style=\"text-align: right;\">\n",
       "      <th></th>\n",
       "      <th>PassengerId</th>\n",
       "      <th>Survived</th>\n",
       "      <th>Pclass</th>\n",
       "      <th>Age</th>\n",
       "      <th>SibSp</th>\n",
       "      <th>Parch</th>\n",
       "      <th>Fare</th>\n",
       "    </tr>\n",
       "  </thead>\n",
       "  <tbody>\n",
       "    <tr>\n",
       "      <th>PassengerId</th>\n",
       "      <td>1.000000</td>\n",
       "      <td>-0.005007</td>\n",
       "      <td>-0.035144</td>\n",
       "      <td>0.036847</td>\n",
       "      <td>-0.057527</td>\n",
       "      <td>-0.001652</td>\n",
       "      <td>0.012658</td>\n",
       "    </tr>\n",
       "    <tr>\n",
       "      <th>Survived</th>\n",
       "      <td>-0.005007</td>\n",
       "      <td>1.000000</td>\n",
       "      <td>-0.338481</td>\n",
       "      <td>-0.077221</td>\n",
       "      <td>-0.035322</td>\n",
       "      <td>0.081629</td>\n",
       "      <td>0.257307</td>\n",
       "    </tr>\n",
       "    <tr>\n",
       "      <th>Pclass</th>\n",
       "      <td>-0.035144</td>\n",
       "      <td>-0.338481</td>\n",
       "      <td>1.000000</td>\n",
       "      <td>-0.369226</td>\n",
       "      <td>0.083081</td>\n",
       "      <td>0.018443</td>\n",
       "      <td>-0.549500</td>\n",
       "    </tr>\n",
       "    <tr>\n",
       "      <th>Age</th>\n",
       "      <td>0.036847</td>\n",
       "      <td>-0.077221</td>\n",
       "      <td>-0.369226</td>\n",
       "      <td>1.000000</td>\n",
       "      <td>-0.308247</td>\n",
       "      <td>-0.189119</td>\n",
       "      <td>0.096067</td>\n",
       "    </tr>\n",
       "    <tr>\n",
       "      <th>SibSp</th>\n",
       "      <td>-0.057527</td>\n",
       "      <td>-0.035322</td>\n",
       "      <td>0.083081</td>\n",
       "      <td>-0.308247</td>\n",
       "      <td>1.000000</td>\n",
       "      <td>0.414838</td>\n",
       "      <td>0.159651</td>\n",
       "    </tr>\n",
       "    <tr>\n",
       "      <th>Parch</th>\n",
       "      <td>-0.001652</td>\n",
       "      <td>0.081629</td>\n",
       "      <td>0.018443</td>\n",
       "      <td>-0.189119</td>\n",
       "      <td>0.414838</td>\n",
       "      <td>1.000000</td>\n",
       "      <td>0.216225</td>\n",
       "    </tr>\n",
       "    <tr>\n",
       "      <th>Fare</th>\n",
       "      <td>0.012658</td>\n",
       "      <td>0.257307</td>\n",
       "      <td>-0.549500</td>\n",
       "      <td>0.096067</td>\n",
       "      <td>0.159651</td>\n",
       "      <td>0.216225</td>\n",
       "      <td>1.000000</td>\n",
       "    </tr>\n",
       "  </tbody>\n",
       "</table>\n",
       "</div>"
      ],
      "text/plain": [
       "             PassengerId  Survived    Pclass       Age     SibSp     Parch  \\\n",
       "PassengerId     1.000000 -0.005007 -0.035144  0.036847 -0.057527 -0.001652   \n",
       "Survived       -0.005007  1.000000 -0.338481 -0.077221 -0.035322  0.081629   \n",
       "Pclass         -0.035144 -0.338481  1.000000 -0.369226  0.083081  0.018443   \n",
       "Age             0.036847 -0.077221 -0.369226  1.000000 -0.308247 -0.189119   \n",
       "SibSp          -0.057527 -0.035322  0.083081 -0.308247  1.000000  0.414838   \n",
       "Parch          -0.001652  0.081629  0.018443 -0.189119  0.414838  1.000000   \n",
       "Fare            0.012658  0.257307 -0.549500  0.096067  0.159651  0.216225   \n",
       "\n",
       "                 Fare  \n",
       "PassengerId  0.012658  \n",
       "Survived     0.257307  \n",
       "Pclass      -0.549500  \n",
       "Age          0.096067  \n",
       "SibSp        0.159651  \n",
       "Parch        0.216225  \n",
       "Fare         1.000000  "
      ]
     },
     "execution_count": 25,
     "metadata": {},
     "output_type": "execute_result"
    }
   ],
   "source": [
    "train_df.corr()"
   ]
  },
  {
   "cell_type": "markdown",
   "id": "d955802d",
   "metadata": {
    "papermill": {
     "duration": 0.031081,
     "end_time": "2023-08-11T07:39:02.502198",
     "exception": false,
     "start_time": "2023-08-11T07:39:02.471117",
     "status": "completed"
    },
    "tags": []
   },
   "source": [
    "Data Wrangling"
   ]
  },
  {
   "cell_type": "markdown",
   "id": "91b154fd",
   "metadata": {
    "papermill": {
     "duration": 0.031234,
     "end_time": "2023-08-11T07:39:02.564450",
     "exception": false,
     "start_time": "2023-08-11T07:39:02.533216",
     "status": "completed"
    },
    "tags": []
   },
   "source": [
    "Age column has more number of missing values. \n",
    "Embarked from train data set and Fare from test data set has missing values."
   ]
  },
  {
   "cell_type": "code",
   "execution_count": 26,
   "id": "74418ddb",
   "metadata": {
    "execution": {
     "iopub.execute_input": "2023-08-11T07:39:02.631487Z",
     "iopub.status.busy": "2023-08-11T07:39:02.630816Z",
     "iopub.status.idle": "2023-08-11T07:39:02.642150Z",
     "shell.execute_reply": "2023-08-11T07:39:02.640999Z"
    },
    "papermill": {
     "duration": 0.047414,
     "end_time": "2023-08-11T07:39:02.644584",
     "exception": false,
     "start_time": "2023-08-11T07:39:02.597170",
     "status": "completed"
    },
    "tags": []
   },
   "outputs": [
    {
     "name": "stdout",
     "output_type": "stream",
     "text": [
      "PassengerId      0\n",
      "Survived         0\n",
      "Pclass           0\n",
      "Name             0\n",
      "Sex              0\n",
      "Age            177\n",
      "SibSp            0\n",
      "Parch            0\n",
      "Ticket           0\n",
      "Fare             0\n",
      "Cabin          687\n",
      "Embarked         2\n",
      "dtype: int64\n",
      "PassengerId      0\n",
      "Pclass           0\n",
      "Name             0\n",
      "Sex              0\n",
      "Age             86\n",
      "SibSp            0\n",
      "Parch            0\n",
      "Ticket           0\n",
      "Fare             1\n",
      "Cabin          327\n",
      "Embarked         0\n",
      "dtype: int64\n"
     ]
    }
   ],
   "source": [
    "print(train_df.isnull().sum())\n",
    "print(test_df.isnull().sum())"
   ]
  },
  {
   "cell_type": "markdown",
   "id": "a78ca0d4",
   "metadata": {
    "papermill": {
     "duration": 0.031635,
     "end_time": "2023-08-11T07:39:02.707312",
     "exception": false,
     "start_time": "2023-08-11T07:39:02.675677",
     "status": "completed"
    },
    "tags": []
   },
   "source": [
    "Handled the missing value in Embarked with the most occurant value'S'."
   ]
  },
  {
   "cell_type": "code",
   "execution_count": 27,
   "id": "1ceb5969",
   "metadata": {
    "execution": {
     "iopub.execute_input": "2023-08-11T07:39:02.771398Z",
     "iopub.status.busy": "2023-08-11T07:39:02.770655Z",
     "iopub.status.idle": "2023-08-11T07:39:02.776320Z",
     "shell.execute_reply": "2023-08-11T07:39:02.775196Z"
    },
    "papermill": {
     "duration": 0.040716,
     "end_time": "2023-08-11T07:39:02.778832",
     "exception": false,
     "start_time": "2023-08-11T07:39:02.738116",
     "status": "completed"
    },
    "tags": []
   },
   "outputs": [],
   "source": [
    "# Fill missing values in the 'Embarked' column with 'S'\n",
    "train_df['Embarked'] = train_df['Embarked'].fillna('S')\n"
   ]
  },
  {
   "cell_type": "markdown",
   "id": "320f6a84",
   "metadata": {
    "papermill": {
     "duration": 0.031497,
     "end_time": "2023-08-11T07:39:02.841676",
     "exception": false,
     "start_time": "2023-08-11T07:39:02.810179",
     "status": "completed"
    },
    "tags": []
   },
   "source": [
    "Name field has an inital 'Mr' or 'Mrs\" or 'Miss' or 'Ms' or 'Master' or 'Dr' associated to it. Let us group by initals to see the average age for each category and assign that to the missing values."
   ]
  },
  {
   "cell_type": "code",
   "execution_count": 28,
   "id": "d27d396f",
   "metadata": {
    "execution": {
     "iopub.execute_input": "2023-08-11T07:39:02.905534Z",
     "iopub.status.busy": "2023-08-11T07:39:02.905063Z",
     "iopub.status.idle": "2023-08-11T07:39:02.927623Z",
     "shell.execute_reply": "2023-08-11T07:39:02.926174Z"
    },
    "papermill": {
     "duration": 0.057794,
     "end_time": "2023-08-11T07:39:02.930432",
     "exception": false,
     "start_time": "2023-08-11T07:39:02.872638",
     "status": "completed"
    },
    "tags": []
   },
   "outputs": [
    {
     "data": {
      "text/html": [
       "<div>\n",
       "<style scoped>\n",
       "    .dataframe tbody tr th:only-of-type {\n",
       "        vertical-align: middle;\n",
       "    }\n",
       "\n",
       "    .dataframe tbody tr th {\n",
       "        vertical-align: top;\n",
       "    }\n",
       "\n",
       "    .dataframe thead th {\n",
       "        text-align: right;\n",
       "    }\n",
       "</style>\n",
       "<table border=\"1\" class=\"dataframe\">\n",
       "  <thead>\n",
       "    <tr style=\"text-align: right;\">\n",
       "      <th></th>\n",
       "      <th>PassengerId</th>\n",
       "      <th>Survived</th>\n",
       "      <th>Pclass</th>\n",
       "      <th>Name</th>\n",
       "      <th>Sex</th>\n",
       "      <th>Age</th>\n",
       "      <th>SibSp</th>\n",
       "      <th>Parch</th>\n",
       "      <th>Ticket</th>\n",
       "      <th>Fare</th>\n",
       "      <th>Cabin</th>\n",
       "      <th>Embarked</th>\n",
       "      <th>name1</th>\n",
       "    </tr>\n",
       "  </thead>\n",
       "  <tbody>\n",
       "    <tr>\n",
       "      <th>0</th>\n",
       "      <td>1</td>\n",
       "      <td>0</td>\n",
       "      <td>3</td>\n",
       "      <td>Braund, Mr. Owen Harris</td>\n",
       "      <td>male</td>\n",
       "      <td>22.0</td>\n",
       "      <td>1</td>\n",
       "      <td>0</td>\n",
       "      <td>A/5 21171</td>\n",
       "      <td>7.2500</td>\n",
       "      <td>NaN</td>\n",
       "      <td>S</td>\n",
       "      <td>Mr</td>\n",
       "    </tr>\n",
       "    <tr>\n",
       "      <th>1</th>\n",
       "      <td>2</td>\n",
       "      <td>1</td>\n",
       "      <td>1</td>\n",
       "      <td>Cumings, Mrs. John Bradley (Florence Briggs Th...</td>\n",
       "      <td>female</td>\n",
       "      <td>38.0</td>\n",
       "      <td>1</td>\n",
       "      <td>0</td>\n",
       "      <td>PC 17599</td>\n",
       "      <td>71.2833</td>\n",
       "      <td>C85</td>\n",
       "      <td>C</td>\n",
       "      <td>Mrs</td>\n",
       "    </tr>\n",
       "    <tr>\n",
       "      <th>2</th>\n",
       "      <td>3</td>\n",
       "      <td>1</td>\n",
       "      <td>3</td>\n",
       "      <td>Heikkinen, Miss. Laina</td>\n",
       "      <td>female</td>\n",
       "      <td>26.0</td>\n",
       "      <td>0</td>\n",
       "      <td>0</td>\n",
       "      <td>STON/O2. 3101282</td>\n",
       "      <td>7.9250</td>\n",
       "      <td>NaN</td>\n",
       "      <td>S</td>\n",
       "      <td>Miss</td>\n",
       "    </tr>\n",
       "    <tr>\n",
       "      <th>3</th>\n",
       "      <td>4</td>\n",
       "      <td>1</td>\n",
       "      <td>1</td>\n",
       "      <td>Futrelle, Mrs. Jacques Heath (Lily May Peel)</td>\n",
       "      <td>female</td>\n",
       "      <td>35.0</td>\n",
       "      <td>1</td>\n",
       "      <td>0</td>\n",
       "      <td>113803</td>\n",
       "      <td>53.1000</td>\n",
       "      <td>C123</td>\n",
       "      <td>S</td>\n",
       "      <td>Mrs</td>\n",
       "    </tr>\n",
       "    <tr>\n",
       "      <th>4</th>\n",
       "      <td>5</td>\n",
       "      <td>0</td>\n",
       "      <td>3</td>\n",
       "      <td>Allen, Mr. William Henry</td>\n",
       "      <td>male</td>\n",
       "      <td>35.0</td>\n",
       "      <td>0</td>\n",
       "      <td>0</td>\n",
       "      <td>373450</td>\n",
       "      <td>8.0500</td>\n",
       "      <td>NaN</td>\n",
       "      <td>S</td>\n",
       "      <td>Mr</td>\n",
       "    </tr>\n",
       "  </tbody>\n",
       "</table>\n",
       "</div>"
      ],
      "text/plain": [
       "   PassengerId  Survived  Pclass  \\\n",
       "0            1         0       3   \n",
       "1            2         1       1   \n",
       "2            3         1       3   \n",
       "3            4         1       1   \n",
       "4            5         0       3   \n",
       "\n",
       "                                                Name     Sex   Age  SibSp  \\\n",
       "0                            Braund, Mr. Owen Harris    male  22.0      1   \n",
       "1  Cumings, Mrs. John Bradley (Florence Briggs Th...  female  38.0      1   \n",
       "2                             Heikkinen, Miss. Laina  female  26.0      0   \n",
       "3       Futrelle, Mrs. Jacques Heath (Lily May Peel)  female  35.0      1   \n",
       "4                           Allen, Mr. William Henry    male  35.0      0   \n",
       "\n",
       "   Parch            Ticket     Fare Cabin Embarked name1  \n",
       "0      0         A/5 21171   7.2500   NaN        S    Mr  \n",
       "1      0          PC 17599  71.2833   C85        C   Mrs  \n",
       "2      0  STON/O2. 3101282   7.9250   NaN        S  Miss  \n",
       "3      0            113803  53.1000  C123        S   Mrs  \n",
       "4      0            373450   8.0500   NaN        S    Mr  "
      ]
     },
     "execution_count": 28,
     "metadata": {},
     "output_type": "execute_result"
    }
   ],
   "source": [
    "\n",
    "def extract_title(name):\n",
    "    return name.split(', ')[1].split('.')[0]\n",
    "\n",
    "# Apply the function to create the 'name1' column\n",
    "train_df['name1'] = train_df['Name'].apply(extract_title)\n",
    "\n",
    "\n",
    "train_df.head()"
   ]
  },
  {
   "cell_type": "code",
   "execution_count": 29,
   "id": "182af82d",
   "metadata": {
    "execution": {
     "iopub.execute_input": "2023-08-11T07:39:02.995105Z",
     "iopub.status.busy": "2023-08-11T07:39:02.994672Z",
     "iopub.status.idle": "2023-08-11T07:39:03.002922Z",
     "shell.execute_reply": "2023-08-11T07:39:03.001699Z"
    },
    "papermill": {
     "duration": 0.043605,
     "end_time": "2023-08-11T07:39:03.005400",
     "exception": false,
     "start_time": "2023-08-11T07:39:02.961795",
     "status": "completed"
    },
    "tags": []
   },
   "outputs": [
    {
     "data": {
      "text/plain": [
       "177"
      ]
     },
     "execution_count": 29,
     "metadata": {},
     "output_type": "execute_result"
    }
   ],
   "source": [
    "train_df['Age'].isnull().sum()"
   ]
  },
  {
   "cell_type": "code",
   "execution_count": 30,
   "id": "9ba4c22a",
   "metadata": {
    "execution": {
     "iopub.execute_input": "2023-08-11T07:39:03.072548Z",
     "iopub.status.busy": "2023-08-11T07:39:03.071428Z",
     "iopub.status.idle": "2023-08-11T07:39:03.082921Z",
     "shell.execute_reply": "2023-08-11T07:39:03.081861Z"
    },
    "papermill": {
     "duration": 0.048198,
     "end_time": "2023-08-11T07:39:03.085583",
     "exception": false,
     "start_time": "2023-08-11T07:39:03.037385",
     "status": "completed"
    },
    "tags": []
   },
   "outputs": [],
   "source": [
    "age_mapping = {\n",
    "    'Mrs': 35.9,\n",
    "    'Mr': 32.4,\n",
    "    'Miss': 21.7,\n",
    "    'Master': 4.6,\n",
    "    'Dr':42.0\n",
    "}\n",
    "\n",
    "# Update missing values in the 'Age' column based on 'name1'\n",
    "for name1, age in age_mapping.items():\n",
    "    train_df.loc[(train_df['name1'] == name1) & (train_df['Age'].isnull()), 'Age'] = age"
   ]
  },
  {
   "cell_type": "code",
   "execution_count": 31,
   "id": "da7d18c6",
   "metadata": {
    "execution": {
     "iopub.execute_input": "2023-08-11T07:39:03.151800Z",
     "iopub.status.busy": "2023-08-11T07:39:03.151014Z",
     "iopub.status.idle": "2023-08-11T07:39:03.163746Z",
     "shell.execute_reply": "2023-08-11T07:39:03.162615Z"
    },
    "papermill": {
     "duration": 0.048272,
     "end_time": "2023-08-11T07:39:03.166227",
     "exception": false,
     "start_time": "2023-08-11T07:39:03.117955",
     "status": "completed"
    },
    "tags": []
   },
   "outputs": [
    {
     "data": {
      "text/plain": [
       "PassengerId      0\n",
       "Survived         0\n",
       "Pclass           0\n",
       "Name             0\n",
       "Sex              0\n",
       "Age              0\n",
       "SibSp            0\n",
       "Parch            0\n",
       "Ticket           0\n",
       "Fare             0\n",
       "Cabin          687\n",
       "Embarked         0\n",
       "name1            0\n",
       "dtype: int64"
      ]
     },
     "execution_count": 31,
     "metadata": {},
     "output_type": "execute_result"
    }
   ],
   "source": [
    "train_df.isnull().sum()"
   ]
  },
  {
   "cell_type": "markdown",
   "id": "c3af04c3",
   "metadata": {
    "papermill": {
     "duration": 0.031445,
     "end_time": "2023-08-11T07:39:03.229353",
     "exception": false,
     "start_time": "2023-08-11T07:39:03.197908",
     "status": "completed"
    },
    "tags": []
   },
   "source": [
    "Updating the same for test data"
   ]
  },
  {
   "cell_type": "code",
   "execution_count": 32,
   "id": "265bab43",
   "metadata": {
    "execution": {
     "iopub.execute_input": "2023-08-11T07:39:03.295421Z",
     "iopub.status.busy": "2023-08-11T07:39:03.294694Z",
     "iopub.status.idle": "2023-08-11T07:39:03.304865Z",
     "shell.execute_reply": "2023-08-11T07:39:03.303652Z"
    },
    "papermill": {
     "duration": 0.046059,
     "end_time": "2023-08-11T07:39:03.307384",
     "exception": false,
     "start_time": "2023-08-11T07:39:03.261325",
     "status": "completed"
    },
    "tags": []
   },
   "outputs": [
    {
     "name": "stdout",
     "output_type": "stream",
     "text": [
      "name1\n",
      "Col       50.000000\n",
      "Dona      39.000000\n",
      "Dr        53.000000\n",
      "Master     7.406471\n",
      "Miss      21.774844\n",
      "Mr        32.000000\n",
      "Mrs       38.903226\n",
      "Ms              NaN\n",
      "Rev       35.500000\n",
      "Name: Age, dtype: float64\n"
     ]
    }
   ],
   "source": [
    "def extract_title(name):\n",
    "    return name.split(', ')[1].split('.')[0]\n",
    "\n",
    "# Apply the function to create the 'name1' column\n",
    "test_df['name1'] = test_df['Name'].apply(extract_title)\n",
    "print(test_df.groupby('name1')['Age'].mean())"
   ]
  },
  {
   "cell_type": "code",
   "execution_count": 33,
   "id": "395dabaf",
   "metadata": {
    "execution": {
     "iopub.execute_input": "2023-08-11T07:39:03.374171Z",
     "iopub.status.busy": "2023-08-11T07:39:03.372877Z",
     "iopub.status.idle": "2023-08-11T07:39:03.384689Z",
     "shell.execute_reply": "2023-08-11T07:39:03.383527Z"
    },
    "papermill": {
     "duration": 0.048629,
     "end_time": "2023-08-11T07:39:03.387723",
     "exception": false,
     "start_time": "2023-08-11T07:39:03.339094",
     "status": "completed"
    },
    "tags": []
   },
   "outputs": [],
   "source": [
    "age_mapping = {\n",
    "    'Mrs': 38.9,\n",
    "    'Mr': 32.0,\n",
    "    'Ms': 28.0,\n",
    "    'Miss': 21.7,\n",
    "    'Master': 7.4,\n",
    "    'Dr':53.0\n",
    "}\n",
    "\n",
    "# Update missing values in the 'Age' column based on 'name1'\n",
    "for name1, age in age_mapping.items():\n",
    "    test_df.loc[(test_df['name1'] == name1) & (test_df['Age'].isnull()), 'Age'] = age"
   ]
  },
  {
   "cell_type": "markdown",
   "id": "458ff46b",
   "metadata": {
    "papermill": {
     "duration": 0.031779,
     "end_time": "2023-08-11T07:39:03.451275",
     "exception": false,
     "start_time": "2023-08-11T07:39:03.419496",
     "status": "completed"
    },
    "tags": []
   },
   "source": [
    "Handling the missing value for Fare with the mean."
   ]
  },
  {
   "cell_type": "code",
   "execution_count": 34,
   "id": "aa3a1751",
   "metadata": {
    "execution": {
     "iopub.execute_input": "2023-08-11T07:39:03.517267Z",
     "iopub.status.busy": "2023-08-11T07:39:03.516834Z",
     "iopub.status.idle": "2023-08-11T07:39:03.523231Z",
     "shell.execute_reply": "2023-08-11T07:39:03.522027Z"
    },
    "papermill": {
     "duration": 0.042389,
     "end_time": "2023-08-11T07:39:03.525610",
     "exception": false,
     "start_time": "2023-08-11T07:39:03.483221",
     "status": "completed"
    },
    "tags": []
   },
   "outputs": [],
   "source": [
    "mean_fare = test_df['Fare'].mean()\n",
    "\n",
    "test_df['Fare'] = test_df['Fare'].fillna(mean_fare)\n"
   ]
  },
  {
   "cell_type": "markdown",
   "id": "a3903586",
   "metadata": {
    "papermill": {
     "duration": 0.031319,
     "end_time": "2023-08-11T07:39:03.589068",
     "exception": false,
     "start_time": "2023-08-11T07:39:03.557749",
     "status": "completed"
    },
    "tags": []
   },
   "source": [
    "We can ignore the missing value present in Cabin column as we will not use it further."
   ]
  },
  {
   "cell_type": "code",
   "execution_count": 35,
   "id": "2e97d211",
   "metadata": {
    "execution": {
     "iopub.execute_input": "2023-08-11T07:39:03.655195Z",
     "iopub.status.busy": "2023-08-11T07:39:03.654762Z",
     "iopub.status.idle": "2023-08-11T07:39:03.665721Z",
     "shell.execute_reply": "2023-08-11T07:39:03.664742Z"
    },
    "papermill": {
     "duration": 0.047377,
     "end_time": "2023-08-11T07:39:03.668108",
     "exception": false,
     "start_time": "2023-08-11T07:39:03.620731",
     "status": "completed"
    },
    "tags": []
   },
   "outputs": [
    {
     "data": {
      "text/plain": [
       "PassengerId    False\n",
       "Pclass         False\n",
       "Name           False\n",
       "Sex            False\n",
       "Age            False\n",
       "SibSp          False\n",
       "Parch          False\n",
       "Ticket         False\n",
       "Fare           False\n",
       "Cabin           True\n",
       "Embarked       False\n",
       "name1          False\n",
       "dtype: bool"
      ]
     },
     "execution_count": 35,
     "metadata": {},
     "output_type": "execute_result"
    }
   ],
   "source": [
    "test_df.isnull().any()"
   ]
  },
  {
   "cell_type": "markdown",
   "id": "abc209f2",
   "metadata": {
    "papermill": {
     "duration": 0.031487,
     "end_time": "2023-08-11T07:39:03.731347",
     "exception": false,
     "start_time": "2023-08-11T07:39:03.699860",
     "status": "completed"
    },
    "tags": []
   },
   "source": [
    "Standardization anc Bin Creation for Fare Column as the standard deviation is high.\n",
    "Also creating 5 bins will help the model to predict better. \n",
    "Fare values Bin\n",
    "0 to 20 %    0\n",
    "20 to 40 %   1\n",
    "40 to 60 %   2\n",
    "60 to 80 %   3\n",
    "80 to 100%   4"
   ]
  },
  {
   "cell_type": "code",
   "execution_count": 36,
   "id": "d2726551",
   "metadata": {
    "execution": {
     "iopub.execute_input": "2023-08-11T07:39:03.797202Z",
     "iopub.status.busy": "2023-08-11T07:39:03.796371Z",
     "iopub.status.idle": "2023-08-11T07:39:03.808812Z",
     "shell.execute_reply": "2023-08-11T07:39:03.807636Z"
    },
    "papermill": {
     "duration": 0.048376,
     "end_time": "2023-08-11T07:39:03.811379",
     "exception": false,
     "start_time": "2023-08-11T07:39:03.763003",
     "status": "completed"
    },
    "tags": []
   },
   "outputs": [
    {
     "data": {
      "text/plain": [
       "count    891.000000\n",
       "mean      32.204208\n",
       "std       49.693429\n",
       "min        0.000000\n",
       "25%        7.910400\n",
       "50%       14.454200\n",
       "75%       31.000000\n",
       "max      512.329200\n",
       "Name: Fare, dtype: float64"
      ]
     },
     "execution_count": 36,
     "metadata": {},
     "output_type": "execute_result"
    }
   ],
   "source": [
    "train_df['Fare'].describe()"
   ]
  },
  {
   "cell_type": "code",
   "execution_count": 37,
   "id": "5bc3908c",
   "metadata": {
    "execution": {
     "iopub.execute_input": "2023-08-11T07:39:03.878500Z",
     "iopub.status.busy": "2023-08-11T07:39:03.876827Z",
     "iopub.status.idle": "2023-08-11T07:39:03.884769Z",
     "shell.execute_reply": "2023-08-11T07:39:03.883801Z"
    },
    "papermill": {
     "duration": 0.043789,
     "end_time": "2023-08-11T07:39:03.887039",
     "exception": false,
     "start_time": "2023-08-11T07:39:03.843250",
     "status": "completed"
    },
    "tags": []
   },
   "outputs": [],
   "source": [
    "mean_fare = train_df['Fare'].mean()\n",
    "std_fare = train_df['Fare'].std()\n",
    "\n",
    "train_df['Standardized_Fare'] = (train_df['Fare'] - mean_fare) / std_fare"
   ]
  },
  {
   "cell_type": "code",
   "execution_count": 38,
   "id": "54701a0b",
   "metadata": {
    "execution": {
     "iopub.execute_input": "2023-08-11T07:39:03.953045Z",
     "iopub.status.busy": "2023-08-11T07:39:03.952640Z",
     "iopub.status.idle": "2023-08-11T07:39:03.977454Z",
     "shell.execute_reply": "2023-08-11T07:39:03.976334Z"
    },
    "papermill": {
     "duration": 0.061003,
     "end_time": "2023-08-11T07:39:03.980201",
     "exception": false,
     "start_time": "2023-08-11T07:39:03.919198",
     "status": "completed"
    },
    "tags": []
   },
   "outputs": [
    {
     "data": {
      "text/html": [
       "<div>\n",
       "<style scoped>\n",
       "    .dataframe tbody tr th:only-of-type {\n",
       "        vertical-align: middle;\n",
       "    }\n",
       "\n",
       "    .dataframe tbody tr th {\n",
       "        vertical-align: top;\n",
       "    }\n",
       "\n",
       "    .dataframe thead th {\n",
       "        text-align: right;\n",
       "    }\n",
       "</style>\n",
       "<table border=\"1\" class=\"dataframe\">\n",
       "  <thead>\n",
       "    <tr style=\"text-align: right;\">\n",
       "      <th></th>\n",
       "      <th>PassengerId</th>\n",
       "      <th>Survived</th>\n",
       "      <th>Pclass</th>\n",
       "      <th>Name</th>\n",
       "      <th>Sex</th>\n",
       "      <th>Age</th>\n",
       "      <th>SibSp</th>\n",
       "      <th>Parch</th>\n",
       "      <th>Ticket</th>\n",
       "      <th>Fare</th>\n",
       "      <th>Cabin</th>\n",
       "      <th>Embarked</th>\n",
       "      <th>name1</th>\n",
       "      <th>Standardized_Fare</th>\n",
       "      <th>Fare_Bin</th>\n",
       "    </tr>\n",
       "  </thead>\n",
       "  <tbody>\n",
       "    <tr>\n",
       "      <th>0</th>\n",
       "      <td>1</td>\n",
       "      <td>0</td>\n",
       "      <td>3</td>\n",
       "      <td>Braund, Mr. Owen Harris</td>\n",
       "      <td>male</td>\n",
       "      <td>22.0</td>\n",
       "      <td>1</td>\n",
       "      <td>0</td>\n",
       "      <td>A/5 21171</td>\n",
       "      <td>7.2500</td>\n",
       "      <td>NaN</td>\n",
       "      <td>S</td>\n",
       "      <td>Mr</td>\n",
       "      <td>-0.502163</td>\n",
       "      <td>0</td>\n",
       "    </tr>\n",
       "    <tr>\n",
       "      <th>1</th>\n",
       "      <td>2</td>\n",
       "      <td>1</td>\n",
       "      <td>1</td>\n",
       "      <td>Cumings, Mrs. John Bradley (Florence Briggs Th...</td>\n",
       "      <td>female</td>\n",
       "      <td>38.0</td>\n",
       "      <td>1</td>\n",
       "      <td>0</td>\n",
       "      <td>PC 17599</td>\n",
       "      <td>71.2833</td>\n",
       "      <td>C85</td>\n",
       "      <td>C</td>\n",
       "      <td>Mrs</td>\n",
       "      <td>0.786404</td>\n",
       "      <td>4</td>\n",
       "    </tr>\n",
       "    <tr>\n",
       "      <th>2</th>\n",
       "      <td>3</td>\n",
       "      <td>1</td>\n",
       "      <td>3</td>\n",
       "      <td>Heikkinen, Miss. Laina</td>\n",
       "      <td>female</td>\n",
       "      <td>26.0</td>\n",
       "      <td>0</td>\n",
       "      <td>0</td>\n",
       "      <td>STON/O2. 3101282</td>\n",
       "      <td>7.9250</td>\n",
       "      <td>NaN</td>\n",
       "      <td>S</td>\n",
       "      <td>Miss</td>\n",
       "      <td>-0.488580</td>\n",
       "      <td>1</td>\n",
       "    </tr>\n",
       "    <tr>\n",
       "      <th>3</th>\n",
       "      <td>4</td>\n",
       "      <td>1</td>\n",
       "      <td>1</td>\n",
       "      <td>Futrelle, Mrs. Jacques Heath (Lily May Peel)</td>\n",
       "      <td>female</td>\n",
       "      <td>35.0</td>\n",
       "      <td>1</td>\n",
       "      <td>0</td>\n",
       "      <td>113803</td>\n",
       "      <td>53.1000</td>\n",
       "      <td>C123</td>\n",
       "      <td>S</td>\n",
       "      <td>Mrs</td>\n",
       "      <td>0.420494</td>\n",
       "      <td>4</td>\n",
       "    </tr>\n",
       "    <tr>\n",
       "      <th>4</th>\n",
       "      <td>5</td>\n",
       "      <td>0</td>\n",
       "      <td>3</td>\n",
       "      <td>Allen, Mr. William Henry</td>\n",
       "      <td>male</td>\n",
       "      <td>35.0</td>\n",
       "      <td>0</td>\n",
       "      <td>0</td>\n",
       "      <td>373450</td>\n",
       "      <td>8.0500</td>\n",
       "      <td>NaN</td>\n",
       "      <td>S</td>\n",
       "      <td>Mr</td>\n",
       "      <td>-0.486064</td>\n",
       "      <td>1</td>\n",
       "    </tr>\n",
       "    <tr>\n",
       "      <th>5</th>\n",
       "      <td>6</td>\n",
       "      <td>0</td>\n",
       "      <td>3</td>\n",
       "      <td>Moran, Mr. James</td>\n",
       "      <td>male</td>\n",
       "      <td>32.4</td>\n",
       "      <td>0</td>\n",
       "      <td>0</td>\n",
       "      <td>330877</td>\n",
       "      <td>8.4583</td>\n",
       "      <td>NaN</td>\n",
       "      <td>Q</td>\n",
       "      <td>Mr</td>\n",
       "      <td>-0.477848</td>\n",
       "      <td>1</td>\n",
       "    </tr>\n",
       "    <tr>\n",
       "      <th>6</th>\n",
       "      <td>7</td>\n",
       "      <td>0</td>\n",
       "      <td>1</td>\n",
       "      <td>McCarthy, Mr. Timothy J</td>\n",
       "      <td>male</td>\n",
       "      <td>54.0</td>\n",
       "      <td>0</td>\n",
       "      <td>0</td>\n",
       "      <td>17463</td>\n",
       "      <td>51.8625</td>\n",
       "      <td>E46</td>\n",
       "      <td>S</td>\n",
       "      <td>Mr</td>\n",
       "      <td>0.395591</td>\n",
       "      <td>4</td>\n",
       "    </tr>\n",
       "    <tr>\n",
       "      <th>7</th>\n",
       "      <td>8</td>\n",
       "      <td>0</td>\n",
       "      <td>3</td>\n",
       "      <td>Palsson, Master. Gosta Leonard</td>\n",
       "      <td>male</td>\n",
       "      <td>2.0</td>\n",
       "      <td>3</td>\n",
       "      <td>1</td>\n",
       "      <td>349909</td>\n",
       "      <td>21.0750</td>\n",
       "      <td>NaN</td>\n",
       "      <td>S</td>\n",
       "      <td>Master</td>\n",
       "      <td>-0.223957</td>\n",
       "      <td>2</td>\n",
       "    </tr>\n",
       "    <tr>\n",
       "      <th>8</th>\n",
       "      <td>9</td>\n",
       "      <td>1</td>\n",
       "      <td>3</td>\n",
       "      <td>Johnson, Mrs. Oscar W (Elisabeth Vilhelmina Berg)</td>\n",
       "      <td>female</td>\n",
       "      <td>27.0</td>\n",
       "      <td>0</td>\n",
       "      <td>2</td>\n",
       "      <td>347742</td>\n",
       "      <td>11.1333</td>\n",
       "      <td>NaN</td>\n",
       "      <td>S</td>\n",
       "      <td>Mrs</td>\n",
       "      <td>-0.424018</td>\n",
       "      <td>2</td>\n",
       "    </tr>\n",
       "    <tr>\n",
       "      <th>9</th>\n",
       "      <td>10</td>\n",
       "      <td>1</td>\n",
       "      <td>2</td>\n",
       "      <td>Nasser, Mrs. Nicholas (Adele Achem)</td>\n",
       "      <td>female</td>\n",
       "      <td>14.0</td>\n",
       "      <td>1</td>\n",
       "      <td>0</td>\n",
       "      <td>237736</td>\n",
       "      <td>30.0708</td>\n",
       "      <td>NaN</td>\n",
       "      <td>C</td>\n",
       "      <td>Mrs</td>\n",
       "      <td>-0.042931</td>\n",
       "      <td>3</td>\n",
       "    </tr>\n",
       "  </tbody>\n",
       "</table>\n",
       "</div>"
      ],
      "text/plain": [
       "   PassengerId  Survived  Pclass  \\\n",
       "0            1         0       3   \n",
       "1            2         1       1   \n",
       "2            3         1       3   \n",
       "3            4         1       1   \n",
       "4            5         0       3   \n",
       "5            6         0       3   \n",
       "6            7         0       1   \n",
       "7            8         0       3   \n",
       "8            9         1       3   \n",
       "9           10         1       2   \n",
       "\n",
       "                                                Name     Sex   Age  SibSp  \\\n",
       "0                            Braund, Mr. Owen Harris    male  22.0      1   \n",
       "1  Cumings, Mrs. John Bradley (Florence Briggs Th...  female  38.0      1   \n",
       "2                             Heikkinen, Miss. Laina  female  26.0      0   \n",
       "3       Futrelle, Mrs. Jacques Heath (Lily May Peel)  female  35.0      1   \n",
       "4                           Allen, Mr. William Henry    male  35.0      0   \n",
       "5                                   Moran, Mr. James    male  32.4      0   \n",
       "6                            McCarthy, Mr. Timothy J    male  54.0      0   \n",
       "7                     Palsson, Master. Gosta Leonard    male   2.0      3   \n",
       "8  Johnson, Mrs. Oscar W (Elisabeth Vilhelmina Berg)  female  27.0      0   \n",
       "9                Nasser, Mrs. Nicholas (Adele Achem)  female  14.0      1   \n",
       "\n",
       "   Parch            Ticket     Fare Cabin Embarked   name1  Standardized_Fare  \\\n",
       "0      0         A/5 21171   7.2500   NaN        S      Mr          -0.502163   \n",
       "1      0          PC 17599  71.2833   C85        C     Mrs           0.786404   \n",
       "2      0  STON/O2. 3101282   7.9250   NaN        S    Miss          -0.488580   \n",
       "3      0            113803  53.1000  C123        S     Mrs           0.420494   \n",
       "4      0            373450   8.0500   NaN        S      Mr          -0.486064   \n",
       "5      0            330877   8.4583   NaN        Q      Mr          -0.477848   \n",
       "6      0             17463  51.8625   E46        S      Mr           0.395591   \n",
       "7      1            349909  21.0750   NaN        S  Master          -0.223957   \n",
       "8      2            347742  11.1333   NaN        S     Mrs          -0.424018   \n",
       "9      0            237736  30.0708   NaN        C     Mrs          -0.042931   \n",
       "\n",
       "   Fare_Bin  \n",
       "0         0  \n",
       "1         4  \n",
       "2         1  \n",
       "3         4  \n",
       "4         1  \n",
       "5         1  \n",
       "6         4  \n",
       "7         2  \n",
       "8         2  \n",
       "9         3  "
      ]
     },
     "execution_count": 38,
     "metadata": {},
     "output_type": "execute_result"
    }
   ],
   "source": [
    "num_bins = 5\n",
    "\n",
    "# Create quantile-based bins\n",
    "train_df['Fare_Bin'] = pd.qcut(train_df['Standardized_Fare'], q=num_bins, labels=False)\n",
    "train_df.head(10)"
   ]
  },
  {
   "cell_type": "markdown",
   "id": "5c93c22f",
   "metadata": {
    "papermill": {
     "duration": 0.032775,
     "end_time": "2023-08-11T07:39:04.045642",
     "exception": false,
     "start_time": "2023-08-11T07:39:04.012867",
     "status": "completed"
    },
    "tags": []
   },
   "source": [
    "Adding a new column \"Family\". If the passenger had a sibling or spouse or kids or parents in the ship, Family column will be 1, else 0"
   ]
  },
  {
   "cell_type": "code",
   "execution_count": 39,
   "id": "60a7db27",
   "metadata": {
    "execution": {
     "iopub.execute_input": "2023-08-11T07:39:04.114637Z",
     "iopub.status.busy": "2023-08-11T07:39:04.114236Z",
     "iopub.status.idle": "2023-08-11T07:39:04.121865Z",
     "shell.execute_reply": "2023-08-11T07:39:04.120968Z"
    },
    "papermill": {
     "duration": 0.044917,
     "end_time": "2023-08-11T07:39:04.124258",
     "exception": false,
     "start_time": "2023-08-11T07:39:04.079341",
     "status": "completed"
    },
    "tags": []
   },
   "outputs": [],
   "source": [
    "train_df['Family'] = (train_df['Parch'] != 0) | (train_df['SibSp'] != 0)\n",
    "\n",
    "# Convert boolean values to 1 and 0\n",
    "train_df['Family'] = train_df['Family'].astype(int)"
   ]
  },
  {
   "cell_type": "markdown",
   "id": "0821540f",
   "metadata": {
    "papermill": {
     "duration": 0.033108,
     "end_time": "2023-08-11T07:39:04.190002",
     "exception": false,
     "start_time": "2023-08-11T07:39:04.156894",
     "status": "completed"
    },
    "tags": []
   },
   "source": [
    "Converting the Categorical values into Numberical Values"
   ]
  },
  {
   "cell_type": "code",
   "execution_count": 40,
   "id": "e790b20a",
   "metadata": {
    "execution": {
     "iopub.execute_input": "2023-08-11T07:39:04.258375Z",
     "iopub.status.busy": "2023-08-11T07:39:04.257581Z",
     "iopub.status.idle": "2023-08-11T07:39:04.266900Z",
     "shell.execute_reply": "2023-08-11T07:39:04.266033Z"
    },
    "papermill": {
     "duration": 0.046306,
     "end_time": "2023-08-11T07:39:04.269387",
     "exception": false,
     "start_time": "2023-08-11T07:39:04.223081",
     "status": "completed"
    },
    "tags": []
   },
   "outputs": [],
   "source": [
    "train_df['Sex'].replace(['male','female'],[0,1],inplace=True)\n",
    "train_df['Embarked'].replace({'S': 0, 'C': 1, 'Q': 2}, inplace=True)"
   ]
  },
  {
   "cell_type": "code",
   "execution_count": 41,
   "id": "97eb5444",
   "metadata": {
    "execution": {
     "iopub.execute_input": "2023-08-11T07:39:04.338417Z",
     "iopub.status.busy": "2023-08-11T07:39:04.336432Z",
     "iopub.status.idle": "2023-08-11T07:39:04.357289Z",
     "shell.execute_reply": "2023-08-11T07:39:04.356146Z"
    },
    "papermill": {
     "duration": 0.057814,
     "end_time": "2023-08-11T07:39:04.359797",
     "exception": false,
     "start_time": "2023-08-11T07:39:04.301983",
     "status": "completed"
    },
    "tags": []
   },
   "outputs": [
    {
     "data": {
      "text/html": [
       "<div>\n",
       "<style scoped>\n",
       "    .dataframe tbody tr th:only-of-type {\n",
       "        vertical-align: middle;\n",
       "    }\n",
       "\n",
       "    .dataframe tbody tr th {\n",
       "        vertical-align: top;\n",
       "    }\n",
       "\n",
       "    .dataframe thead th {\n",
       "        text-align: right;\n",
       "    }\n",
       "</style>\n",
       "<table border=\"1\" class=\"dataframe\">\n",
       "  <thead>\n",
       "    <tr style=\"text-align: right;\">\n",
       "      <th></th>\n",
       "      <th>PassengerId</th>\n",
       "      <th>Survived</th>\n",
       "      <th>Pclass</th>\n",
       "      <th>Name</th>\n",
       "      <th>Sex</th>\n",
       "      <th>Age</th>\n",
       "      <th>SibSp</th>\n",
       "      <th>Parch</th>\n",
       "      <th>Ticket</th>\n",
       "      <th>Fare</th>\n",
       "      <th>Cabin</th>\n",
       "      <th>Embarked</th>\n",
       "      <th>name1</th>\n",
       "      <th>Standardized_Fare</th>\n",
       "      <th>Fare_Bin</th>\n",
       "      <th>Family</th>\n",
       "    </tr>\n",
       "  </thead>\n",
       "  <tbody>\n",
       "    <tr>\n",
       "      <th>0</th>\n",
       "      <td>1</td>\n",
       "      <td>0</td>\n",
       "      <td>3</td>\n",
       "      <td>Braund, Mr. Owen Harris</td>\n",
       "      <td>0</td>\n",
       "      <td>22.0</td>\n",
       "      <td>1</td>\n",
       "      <td>0</td>\n",
       "      <td>A/5 21171</td>\n",
       "      <td>7.2500</td>\n",
       "      <td>NaN</td>\n",
       "      <td>0</td>\n",
       "      <td>Mr</td>\n",
       "      <td>-0.502163</td>\n",
       "      <td>0</td>\n",
       "      <td>1</td>\n",
       "    </tr>\n",
       "    <tr>\n",
       "      <th>1</th>\n",
       "      <td>2</td>\n",
       "      <td>1</td>\n",
       "      <td>1</td>\n",
       "      <td>Cumings, Mrs. John Bradley (Florence Briggs Th...</td>\n",
       "      <td>1</td>\n",
       "      <td>38.0</td>\n",
       "      <td>1</td>\n",
       "      <td>0</td>\n",
       "      <td>PC 17599</td>\n",
       "      <td>71.2833</td>\n",
       "      <td>C85</td>\n",
       "      <td>1</td>\n",
       "      <td>Mrs</td>\n",
       "      <td>0.786404</td>\n",
       "      <td>4</td>\n",
       "      <td>1</td>\n",
       "    </tr>\n",
       "    <tr>\n",
       "      <th>2</th>\n",
       "      <td>3</td>\n",
       "      <td>1</td>\n",
       "      <td>3</td>\n",
       "      <td>Heikkinen, Miss. Laina</td>\n",
       "      <td>1</td>\n",
       "      <td>26.0</td>\n",
       "      <td>0</td>\n",
       "      <td>0</td>\n",
       "      <td>STON/O2. 3101282</td>\n",
       "      <td>7.9250</td>\n",
       "      <td>NaN</td>\n",
       "      <td>0</td>\n",
       "      <td>Miss</td>\n",
       "      <td>-0.488580</td>\n",
       "      <td>1</td>\n",
       "      <td>0</td>\n",
       "    </tr>\n",
       "    <tr>\n",
       "      <th>3</th>\n",
       "      <td>4</td>\n",
       "      <td>1</td>\n",
       "      <td>1</td>\n",
       "      <td>Futrelle, Mrs. Jacques Heath (Lily May Peel)</td>\n",
       "      <td>1</td>\n",
       "      <td>35.0</td>\n",
       "      <td>1</td>\n",
       "      <td>0</td>\n",
       "      <td>113803</td>\n",
       "      <td>53.1000</td>\n",
       "      <td>C123</td>\n",
       "      <td>0</td>\n",
       "      <td>Mrs</td>\n",
       "      <td>0.420494</td>\n",
       "      <td>4</td>\n",
       "      <td>1</td>\n",
       "    </tr>\n",
       "    <tr>\n",
       "      <th>4</th>\n",
       "      <td>5</td>\n",
       "      <td>0</td>\n",
       "      <td>3</td>\n",
       "      <td>Allen, Mr. William Henry</td>\n",
       "      <td>0</td>\n",
       "      <td>35.0</td>\n",
       "      <td>0</td>\n",
       "      <td>0</td>\n",
       "      <td>373450</td>\n",
       "      <td>8.0500</td>\n",
       "      <td>NaN</td>\n",
       "      <td>0</td>\n",
       "      <td>Mr</td>\n",
       "      <td>-0.486064</td>\n",
       "      <td>1</td>\n",
       "      <td>0</td>\n",
       "    </tr>\n",
       "  </tbody>\n",
       "</table>\n",
       "</div>"
      ],
      "text/plain": [
       "   PassengerId  Survived  Pclass  \\\n",
       "0            1         0       3   \n",
       "1            2         1       1   \n",
       "2            3         1       3   \n",
       "3            4         1       1   \n",
       "4            5         0       3   \n",
       "\n",
       "                                                Name  Sex   Age  SibSp  Parch  \\\n",
       "0                            Braund, Mr. Owen Harris    0  22.0      1      0   \n",
       "1  Cumings, Mrs. John Bradley (Florence Briggs Th...    1  38.0      1      0   \n",
       "2                             Heikkinen, Miss. Laina    1  26.0      0      0   \n",
       "3       Futrelle, Mrs. Jacques Heath (Lily May Peel)    1  35.0      1      0   \n",
       "4                           Allen, Mr. William Henry    0  35.0      0      0   \n",
       "\n",
       "             Ticket     Fare Cabin  Embarked name1  Standardized_Fare  \\\n",
       "0         A/5 21171   7.2500   NaN         0    Mr          -0.502163   \n",
       "1          PC 17599  71.2833   C85         1   Mrs           0.786404   \n",
       "2  STON/O2. 3101282   7.9250   NaN         0  Miss          -0.488580   \n",
       "3            113803  53.1000  C123         0   Mrs           0.420494   \n",
       "4            373450   8.0500   NaN         0    Mr          -0.486064   \n",
       "\n",
       "   Fare_Bin  Family  \n",
       "0         0       1  \n",
       "1         4       1  \n",
       "2         1       0  \n",
       "3         4       1  \n",
       "4         1       0  "
      ]
     },
     "execution_count": 41,
     "metadata": {},
     "output_type": "execute_result"
    }
   ],
   "source": [
    "train_df.head()"
   ]
  },
  {
   "cell_type": "markdown",
   "id": "f95033cc",
   "metadata": {
    "papermill": {
     "duration": 0.032825,
     "end_time": "2023-08-11T07:39:04.425569",
     "exception": false,
     "start_time": "2023-08-11T07:39:04.392744",
     "status": "completed"
    },
    "tags": []
   },
   "source": [
    "Updating the same for the Test Data Set"
   ]
  },
  {
   "cell_type": "code",
   "execution_count": 42,
   "id": "4e0cf1f0",
   "metadata": {
    "execution": {
     "iopub.execute_input": "2023-08-11T07:39:04.493979Z",
     "iopub.status.busy": "2023-08-11T07:39:04.493150Z",
     "iopub.status.idle": "2023-08-11T07:39:04.525740Z",
     "shell.execute_reply": "2023-08-11T07:39:04.524580Z"
    },
    "papermill": {
     "duration": 0.069696,
     "end_time": "2023-08-11T07:39:04.528239",
     "exception": false,
     "start_time": "2023-08-11T07:39:04.458543",
     "status": "completed"
    },
    "tags": []
   },
   "outputs": [
    {
     "data": {
      "text/html": [
       "<div>\n",
       "<style scoped>\n",
       "    .dataframe tbody tr th:only-of-type {\n",
       "        vertical-align: middle;\n",
       "    }\n",
       "\n",
       "    .dataframe tbody tr th {\n",
       "        vertical-align: top;\n",
       "    }\n",
       "\n",
       "    .dataframe thead th {\n",
       "        text-align: right;\n",
       "    }\n",
       "</style>\n",
       "<table border=\"1\" class=\"dataframe\">\n",
       "  <thead>\n",
       "    <tr style=\"text-align: right;\">\n",
       "      <th></th>\n",
       "      <th>PassengerId</th>\n",
       "      <th>Pclass</th>\n",
       "      <th>Name</th>\n",
       "      <th>Sex</th>\n",
       "      <th>Age</th>\n",
       "      <th>SibSp</th>\n",
       "      <th>Parch</th>\n",
       "      <th>Ticket</th>\n",
       "      <th>Fare</th>\n",
       "      <th>Cabin</th>\n",
       "      <th>Embarked</th>\n",
       "      <th>name1</th>\n",
       "      <th>Family</th>\n",
       "      <th>Standardized_Fare</th>\n",
       "      <th>Fare_Bin</th>\n",
       "    </tr>\n",
       "  </thead>\n",
       "  <tbody>\n",
       "    <tr>\n",
       "      <th>0</th>\n",
       "      <td>892</td>\n",
       "      <td>3</td>\n",
       "      <td>Kelly, Mr. James</td>\n",
       "      <td>0</td>\n",
       "      <td>34.5</td>\n",
       "      <td>0</td>\n",
       "      <td>0</td>\n",
       "      <td>330911</td>\n",
       "      <td>7.8292</td>\n",
       "      <td>NaN</td>\n",
       "      <td>2</td>\n",
       "      <td>Mr</td>\n",
       "      <td>0</td>\n",
       "      <td>-0.497811</td>\n",
       "      <td>1</td>\n",
       "    </tr>\n",
       "    <tr>\n",
       "      <th>1</th>\n",
       "      <td>893</td>\n",
       "      <td>3</td>\n",
       "      <td>Wilkes, Mrs. James (Ellen Needs)</td>\n",
       "      <td>1</td>\n",
       "      <td>47.0</td>\n",
       "      <td>1</td>\n",
       "      <td>0</td>\n",
       "      <td>363272</td>\n",
       "      <td>7.0000</td>\n",
       "      <td>NaN</td>\n",
       "      <td>0</td>\n",
       "      <td>Mrs</td>\n",
       "      <td>1</td>\n",
       "      <td>-0.512660</td>\n",
       "      <td>0</td>\n",
       "    </tr>\n",
       "    <tr>\n",
       "      <th>2</th>\n",
       "      <td>894</td>\n",
       "      <td>2</td>\n",
       "      <td>Myles, Mr. Thomas Francis</td>\n",
       "      <td>0</td>\n",
       "      <td>62.0</td>\n",
       "      <td>0</td>\n",
       "      <td>0</td>\n",
       "      <td>240276</td>\n",
       "      <td>9.6875</td>\n",
       "      <td>NaN</td>\n",
       "      <td>2</td>\n",
       "      <td>Mr</td>\n",
       "      <td>0</td>\n",
       "      <td>-0.464532</td>\n",
       "      <td>1</td>\n",
       "    </tr>\n",
       "    <tr>\n",
       "      <th>3</th>\n",
       "      <td>895</td>\n",
       "      <td>3</td>\n",
       "      <td>Wirz, Mr. Albert</td>\n",
       "      <td>0</td>\n",
       "      <td>27.0</td>\n",
       "      <td>0</td>\n",
       "      <td>0</td>\n",
       "      <td>315154</td>\n",
       "      <td>8.6625</td>\n",
       "      <td>NaN</td>\n",
       "      <td>0</td>\n",
       "      <td>Mr</td>\n",
       "      <td>0</td>\n",
       "      <td>-0.482888</td>\n",
       "      <td>1</td>\n",
       "    </tr>\n",
       "    <tr>\n",
       "      <th>4</th>\n",
       "      <td>896</td>\n",
       "      <td>3</td>\n",
       "      <td>Hirvonen, Mrs. Alexander (Helga E Lindqvist)</td>\n",
       "      <td>1</td>\n",
       "      <td>22.0</td>\n",
       "      <td>1</td>\n",
       "      <td>1</td>\n",
       "      <td>3101298</td>\n",
       "      <td>12.2875</td>\n",
       "      <td>NaN</td>\n",
       "      <td>0</td>\n",
       "      <td>Mrs</td>\n",
       "      <td>1</td>\n",
       "      <td>-0.417971</td>\n",
       "      <td>2</td>\n",
       "    </tr>\n",
       "    <tr>\n",
       "      <th>5</th>\n",
       "      <td>897</td>\n",
       "      <td>3</td>\n",
       "      <td>Svensson, Mr. Johan Cervin</td>\n",
       "      <td>0</td>\n",
       "      <td>14.0</td>\n",
       "      <td>0</td>\n",
       "      <td>0</td>\n",
       "      <td>7538</td>\n",
       "      <td>9.2250</td>\n",
       "      <td>NaN</td>\n",
       "      <td>0</td>\n",
       "      <td>Mr</td>\n",
       "      <td>0</td>\n",
       "      <td>-0.472814</td>\n",
       "      <td>1</td>\n",
       "    </tr>\n",
       "    <tr>\n",
       "      <th>6</th>\n",
       "      <td>898</td>\n",
       "      <td>3</td>\n",
       "      <td>Connolly, Miss. Kate</td>\n",
       "      <td>1</td>\n",
       "      <td>30.0</td>\n",
       "      <td>0</td>\n",
       "      <td>0</td>\n",
       "      <td>330972</td>\n",
       "      <td>7.6292</td>\n",
       "      <td>NaN</td>\n",
       "      <td>2</td>\n",
       "      <td>Miss</td>\n",
       "      <td>0</td>\n",
       "      <td>-0.501392</td>\n",
       "      <td>0</td>\n",
       "    </tr>\n",
       "    <tr>\n",
       "      <th>7</th>\n",
       "      <td>899</td>\n",
       "      <td>2</td>\n",
       "      <td>Caldwell, Mr. Albert Francis</td>\n",
       "      <td>0</td>\n",
       "      <td>26.0</td>\n",
       "      <td>1</td>\n",
       "      <td>1</td>\n",
       "      <td>248738</td>\n",
       "      <td>29.0000</td>\n",
       "      <td>NaN</td>\n",
       "      <td>0</td>\n",
       "      <td>Mr</td>\n",
       "      <td>1</td>\n",
       "      <td>-0.118681</td>\n",
       "      <td>3</td>\n",
       "    </tr>\n",
       "    <tr>\n",
       "      <th>8</th>\n",
       "      <td>900</td>\n",
       "      <td>3</td>\n",
       "      <td>Abrahim, Mrs. Joseph (Sophie Halaut Easu)</td>\n",
       "      <td>1</td>\n",
       "      <td>18.0</td>\n",
       "      <td>0</td>\n",
       "      <td>0</td>\n",
       "      <td>2657</td>\n",
       "      <td>7.2292</td>\n",
       "      <td>NaN</td>\n",
       "      <td>1</td>\n",
       "      <td>Mrs</td>\n",
       "      <td>0</td>\n",
       "      <td>-0.508555</td>\n",
       "      <td>0</td>\n",
       "    </tr>\n",
       "    <tr>\n",
       "      <th>9</th>\n",
       "      <td>901</td>\n",
       "      <td>3</td>\n",
       "      <td>Davies, Mr. John Samuel</td>\n",
       "      <td>0</td>\n",
       "      <td>21.0</td>\n",
       "      <td>2</td>\n",
       "      <td>0</td>\n",
       "      <td>A/4 48871</td>\n",
       "      <td>24.1500</td>\n",
       "      <td>NaN</td>\n",
       "      <td>0</td>\n",
       "      <td>Mr</td>\n",
       "      <td>1</td>\n",
       "      <td>-0.205535</td>\n",
       "      <td>3</td>\n",
       "    </tr>\n",
       "  </tbody>\n",
       "</table>\n",
       "</div>"
      ],
      "text/plain": [
       "   PassengerId  Pclass                                          Name  Sex  \\\n",
       "0          892       3                              Kelly, Mr. James    0   \n",
       "1          893       3              Wilkes, Mrs. James (Ellen Needs)    1   \n",
       "2          894       2                     Myles, Mr. Thomas Francis    0   \n",
       "3          895       3                              Wirz, Mr. Albert    0   \n",
       "4          896       3  Hirvonen, Mrs. Alexander (Helga E Lindqvist)    1   \n",
       "5          897       3                    Svensson, Mr. Johan Cervin    0   \n",
       "6          898       3                          Connolly, Miss. Kate    1   \n",
       "7          899       2                  Caldwell, Mr. Albert Francis    0   \n",
       "8          900       3     Abrahim, Mrs. Joseph (Sophie Halaut Easu)    1   \n",
       "9          901       3                       Davies, Mr. John Samuel    0   \n",
       "\n",
       "    Age  SibSp  Parch     Ticket     Fare Cabin  Embarked name1  Family  \\\n",
       "0  34.5      0      0     330911   7.8292   NaN         2    Mr       0   \n",
       "1  47.0      1      0     363272   7.0000   NaN         0   Mrs       1   \n",
       "2  62.0      0      0     240276   9.6875   NaN         2    Mr       0   \n",
       "3  27.0      0      0     315154   8.6625   NaN         0    Mr       0   \n",
       "4  22.0      1      1    3101298  12.2875   NaN         0   Mrs       1   \n",
       "5  14.0      0      0       7538   9.2250   NaN         0    Mr       0   \n",
       "6  30.0      0      0     330972   7.6292   NaN         2  Miss       0   \n",
       "7  26.0      1      1     248738  29.0000   NaN         0    Mr       1   \n",
       "8  18.0      0      0       2657   7.2292   NaN         1   Mrs       0   \n",
       "9  21.0      2      0  A/4 48871  24.1500   NaN         0    Mr       1   \n",
       "\n",
       "   Standardized_Fare  Fare_Bin  \n",
       "0          -0.497811         1  \n",
       "1          -0.512660         0  \n",
       "2          -0.464532         1  \n",
       "3          -0.482888         1  \n",
       "4          -0.417971         2  \n",
       "5          -0.472814         1  \n",
       "6          -0.501392         0  \n",
       "7          -0.118681         3  \n",
       "8          -0.508555         0  \n",
       "9          -0.205535         3  "
      ]
     },
     "execution_count": 42,
     "metadata": {},
     "output_type": "execute_result"
    }
   ],
   "source": [
    "test_df['Sex'].replace(['male','female'],[0,1],inplace=True)\n",
    "test_df['Embarked'].replace({'S': 0, 'C': 1, 'Q': 2}, inplace=True)\n",
    "\n",
    "test_df['Family'] = (test_df['Parch'] != 0) | (test_df['SibSp'] != 0)\n",
    "\n",
    "# Convert boolean values to 1 and 0\n",
    "test_df['Family'] = test_df['Family'].astype(int)\n",
    "\n",
    "mean_fare = test_df['Fare'].mean()\n",
    "std_fare = test_df['Fare'].std()\n",
    "\n",
    "test_df['Standardized_Fare'] = (test_df['Fare'] - mean_fare) / std_fare\n",
    "\n",
    "num_bins = 5\n",
    "\n",
    "# Create quantile-based bins\n",
    "test_df['Fare_Bin'] = pd.qcut(test_df['Standardized_Fare'], q=num_bins, labels=False)\n",
    "test_df.head(10)\n"
   ]
  },
  {
   "cell_type": "markdown",
   "id": "bb803971",
   "metadata": {
    "papermill": {
     "duration": 0.033242,
     "end_time": "2023-08-11T07:39:04.594922",
     "exception": false,
     "start_time": "2023-08-11T07:39:04.561680",
     "status": "completed"
    },
    "tags": []
   },
   "source": [
    "Using the features \"Pclass , Sex, Embarked, Fare_Bin, Family \" for the model creation."
   ]
  },
  {
   "cell_type": "code",
   "execution_count": 43,
   "id": "a056c06d",
   "metadata": {
    "execution": {
     "iopub.execute_input": "2023-08-11T07:39:04.664699Z",
     "iopub.status.busy": "2023-08-11T07:39:04.664257Z",
     "iopub.status.idle": "2023-08-11T07:39:04.674033Z",
     "shell.execute_reply": "2023-08-11T07:39:04.673168Z"
    },
    "papermill": {
     "duration": 0.048062,
     "end_time": "2023-08-11T07:39:04.676437",
     "exception": false,
     "start_time": "2023-08-11T07:39:04.628375",
     "status": "completed"
    },
    "tags": []
   },
   "outputs": [],
   "source": [
    "X=pd.DataFrame()\n",
    "X_test = pd.DataFrame()\n",
    "X=train_df[['Pclass','Sex','Age','Embarked','Fare_Bin','Family']]\n",
    "Y=train_df['Survived']\n",
    "X_Test = test_df[['Pclass','Sex','Age','Embarked','Fare_Bin','Family']]"
   ]
  },
  {
   "cell_type": "markdown",
   "id": "084f1060",
   "metadata": {
    "papermill": {
     "duration": 0.033119,
     "end_time": "2023-08-11T07:39:04.743672",
     "exception": false,
     "start_time": "2023-08-11T07:39:04.710553",
     "status": "completed"
    },
    "tags": []
   },
   "source": [
    "Splitting the train data set to check the accuracy of multiple models"
   ]
  },
  {
   "cell_type": "code",
   "execution_count": 44,
   "id": "d049e759",
   "metadata": {
    "execution": {
     "iopub.execute_input": "2023-08-11T07:39:04.813150Z",
     "iopub.status.busy": "2023-08-11T07:39:04.812454Z",
     "iopub.status.idle": "2023-08-11T07:39:05.509970Z",
     "shell.execute_reply": "2023-08-11T07:39:05.508781Z"
    },
    "papermill": {
     "duration": 0.735138,
     "end_time": "2023-08-11T07:39:05.512657",
     "exception": false,
     "start_time": "2023-08-11T07:39:04.777519",
     "status": "completed"
    },
    "tags": []
   },
   "outputs": [],
   "source": [
    "from sklearn.model_selection import train_test_split\n",
    "from sklearn.linear_model import LogisticRegression\n",
    "from sklearn.tree import DecisionTreeClassifier\n",
    "from sklearn.ensemble import RandomForestClassifier\n",
    "from sklearn.metrics import accuracy_score\n",
    "\n",
    "X_train, X_test, y_train, y_test = train_test_split(X, Y, test_size=0.2, random_state=42)"
   ]
  },
  {
   "cell_type": "code",
   "execution_count": 45,
   "id": "e79b043e",
   "metadata": {
    "execution": {
     "iopub.execute_input": "2023-08-11T07:39:05.582450Z",
     "iopub.status.busy": "2023-08-11T07:39:05.582005Z",
     "iopub.status.idle": "2023-08-11T07:39:05.892407Z",
     "shell.execute_reply": "2023-08-11T07:39:05.891469Z"
    },
    "papermill": {
     "duration": 0.347817,
     "end_time": "2023-08-11T07:39:05.894739",
     "exception": false,
     "start_time": "2023-08-11T07:39:05.546922",
     "status": "completed"
    },
    "tags": []
   },
   "outputs": [
    {
     "data": {
      "text/html": [
       "<style>#sk-container-id-1 {color: black;background-color: white;}#sk-container-id-1 pre{padding: 0;}#sk-container-id-1 div.sk-toggleable {background-color: white;}#sk-container-id-1 label.sk-toggleable__label {cursor: pointer;display: block;width: 100%;margin-bottom: 0;padding: 0.3em;box-sizing: border-box;text-align: center;}#sk-container-id-1 label.sk-toggleable__label-arrow:before {content: \"▸\";float: left;margin-right: 0.25em;color: #696969;}#sk-container-id-1 label.sk-toggleable__label-arrow:hover:before {color: black;}#sk-container-id-1 div.sk-estimator:hover label.sk-toggleable__label-arrow:before {color: black;}#sk-container-id-1 div.sk-toggleable__content {max-height: 0;max-width: 0;overflow: hidden;text-align: left;background-color: #f0f8ff;}#sk-container-id-1 div.sk-toggleable__content pre {margin: 0.2em;color: black;border-radius: 0.25em;background-color: #f0f8ff;}#sk-container-id-1 input.sk-toggleable__control:checked~div.sk-toggleable__content {max-height: 200px;max-width: 100%;overflow: auto;}#sk-container-id-1 input.sk-toggleable__control:checked~label.sk-toggleable__label-arrow:before {content: \"▾\";}#sk-container-id-1 div.sk-estimator input.sk-toggleable__control:checked~label.sk-toggleable__label {background-color: #d4ebff;}#sk-container-id-1 div.sk-label input.sk-toggleable__control:checked~label.sk-toggleable__label {background-color: #d4ebff;}#sk-container-id-1 input.sk-hidden--visually {border: 0;clip: rect(1px 1px 1px 1px);clip: rect(1px, 1px, 1px, 1px);height: 1px;margin: -1px;overflow: hidden;padding: 0;position: absolute;width: 1px;}#sk-container-id-1 div.sk-estimator {font-family: monospace;background-color: #f0f8ff;border: 1px dotted black;border-radius: 0.25em;box-sizing: border-box;margin-bottom: 0.5em;}#sk-container-id-1 div.sk-estimator:hover {background-color: #d4ebff;}#sk-container-id-1 div.sk-parallel-item::after {content: \"\";width: 100%;border-bottom: 1px solid gray;flex-grow: 1;}#sk-container-id-1 div.sk-label:hover label.sk-toggleable__label {background-color: #d4ebff;}#sk-container-id-1 div.sk-serial::before {content: \"\";position: absolute;border-left: 1px solid gray;box-sizing: border-box;top: 0;bottom: 0;left: 50%;z-index: 0;}#sk-container-id-1 div.sk-serial {display: flex;flex-direction: column;align-items: center;background-color: white;padding-right: 0.2em;padding-left: 0.2em;position: relative;}#sk-container-id-1 div.sk-item {position: relative;z-index: 1;}#sk-container-id-1 div.sk-parallel {display: flex;align-items: stretch;justify-content: center;background-color: white;position: relative;}#sk-container-id-1 div.sk-item::before, #sk-container-id-1 div.sk-parallel-item::before {content: \"\";position: absolute;border-left: 1px solid gray;box-sizing: border-box;top: 0;bottom: 0;left: 50%;z-index: -1;}#sk-container-id-1 div.sk-parallel-item {display: flex;flex-direction: column;z-index: 1;position: relative;background-color: white;}#sk-container-id-1 div.sk-parallel-item:first-child::after {align-self: flex-end;width: 50%;}#sk-container-id-1 div.sk-parallel-item:last-child::after {align-self: flex-start;width: 50%;}#sk-container-id-1 div.sk-parallel-item:only-child::after {width: 0;}#sk-container-id-1 div.sk-dashed-wrapped {border: 1px dashed gray;margin: 0 0.4em 0.5em 0.4em;box-sizing: border-box;padding-bottom: 0.4em;background-color: white;}#sk-container-id-1 div.sk-label label {font-family: monospace;font-weight: bold;display: inline-block;line-height: 1.2em;}#sk-container-id-1 div.sk-label-container {text-align: center;}#sk-container-id-1 div.sk-container {/* jupyter's `normalize.less` sets `[hidden] { display: none; }` but bootstrap.min.css set `[hidden] { display: none !important; }` so we also need the `!important` here to be able to override the default hidden behavior on the sphinx rendered scikit-learn.org. See: https://github.com/scikit-learn/scikit-learn/issues/21755 */display: inline-block !important;position: relative;}#sk-container-id-1 div.sk-text-repr-fallback {display: none;}</style><div id=\"sk-container-id-1\" class=\"sk-top-container\"><div class=\"sk-text-repr-fallback\"><pre>RandomForestClassifier()</pre><b>In a Jupyter environment, please rerun this cell to show the HTML representation or trust the notebook. <br />On GitHub, the HTML representation is unable to render, please try loading this page with nbviewer.org.</b></div><div class=\"sk-container\" hidden><div class=\"sk-item\"><div class=\"sk-estimator sk-toggleable\"><input class=\"sk-toggleable__control sk-hidden--visually\" id=\"sk-estimator-id-1\" type=\"checkbox\" checked><label for=\"sk-estimator-id-1\" class=\"sk-toggleable__label sk-toggleable__label-arrow\">RandomForestClassifier</label><div class=\"sk-toggleable__content\"><pre>RandomForestClassifier()</pre></div></div></div></div></div>"
      ],
      "text/plain": [
       "RandomForestClassifier()"
      ]
     },
     "execution_count": 45,
     "metadata": {},
     "output_type": "execute_result"
    }
   ],
   "source": [
    "# Initialize the models\n",
    "logreg_model = LogisticRegression()\n",
    "decision_tree_model = DecisionTreeClassifier()\n",
    "random_forest_model = RandomForestClassifier()\n",
    "\n",
    "# Train the models\n",
    "logreg_model.fit(X_train, y_train)\n",
    "decision_tree_model.fit(X_train, y_train)\n",
    "random_forest_model.fit(X_train, y_train)"
   ]
  },
  {
   "cell_type": "code",
   "execution_count": 46,
   "id": "38253b9e",
   "metadata": {
    "execution": {
     "iopub.execute_input": "2023-08-11T07:39:05.966577Z",
     "iopub.status.busy": "2023-08-11T07:39:05.965355Z",
     "iopub.status.idle": "2023-08-11T07:39:05.993575Z",
     "shell.execute_reply": "2023-08-11T07:39:05.992328Z"
    },
    "papermill": {
     "duration": 0.067183,
     "end_time": "2023-08-11T07:39:05.996379",
     "exception": false,
     "start_time": "2023-08-11T07:39:05.929196",
     "status": "completed"
    },
    "tags": []
   },
   "outputs": [],
   "source": [
    "# Make predictions using the trained models\n",
    "logreg_predictions = logreg_model.predict(X_test)\n",
    "decision_tree_predictions = decision_tree_model.predict(X_test)\n",
    "random_forest_predictions = random_forest_model.predict(X_test)"
   ]
  },
  {
   "cell_type": "code",
   "execution_count": 47,
   "id": "43a83926",
   "metadata": {
    "execution": {
     "iopub.execute_input": "2023-08-11T07:39:06.069448Z",
     "iopub.status.busy": "2023-08-11T07:39:06.068989Z",
     "iopub.status.idle": "2023-08-11T07:39:06.080610Z",
     "shell.execute_reply": "2023-08-11T07:39:06.079304Z"
    },
    "papermill": {
     "duration": 0.050335,
     "end_time": "2023-08-11T07:39:06.083058",
     "exception": false,
     "start_time": "2023-08-11T07:39:06.032723",
     "status": "completed"
    },
    "tags": []
   },
   "outputs": [
    {
     "name": "stdout",
     "output_type": "stream",
     "text": [
      "Logistic Regression Accuracy: 0.7988826815642458\n",
      "Decision Tree Accuracy: 0.7653631284916201\n",
      "Random Forest Accuracy: 0.8044692737430168\n"
     ]
    }
   ],
   "source": [
    "# Calculate accuracy scores\n",
    "logreg_accuracy = accuracy_score(y_test, logreg_predictions)\n",
    "decision_tree_accuracy = accuracy_score(y_test, decision_tree_predictions)\n",
    "random_forest_accuracy = accuracy_score(y_test, random_forest_predictions)\n",
    "\n",
    "# Print the accuracy scores\n",
    "print(\"Logistic Regression Accuracy:\", logreg_accuracy)\n",
    "print(\"Decision Tree Accuracy:\", decision_tree_accuracy)\n",
    "print(\"Random Forest Accuracy:\", random_forest_accuracy)"
   ]
  },
  {
   "cell_type": "code",
   "execution_count": 48,
   "id": "19e43c8f",
   "metadata": {
    "execution": {
     "iopub.execute_input": "2023-08-11T07:39:06.156501Z",
     "iopub.status.busy": "2023-08-11T07:39:06.155437Z",
     "iopub.status.idle": "2023-08-11T07:39:06.476119Z",
     "shell.execute_reply": "2023-08-11T07:39:06.474959Z"
    },
    "papermill": {
     "duration": 0.361634,
     "end_time": "2023-08-11T07:39:06.478947",
     "exception": false,
     "start_time": "2023-08-11T07:39:06.117313",
     "status": "completed"
    },
    "tags": []
   },
   "outputs": [
    {
     "name": "stdout",
     "output_type": "stream",
     "text": [
      "Logistic Regression Accuracy: 0.7843137254901961\n",
      "Decision Tree Accuracy: 0.7591036414565826\n",
      "Random Forest Accuracy: 0.7871148459383753\n"
     ]
    }
   ],
   "source": [
    "X=train_df[['Pclass','Sex','Age','Embarked','Fare_Bin','Family']]\n",
    "Y=train_df['Survived']\n",
    "\n",
    "X_train, X_test, y_train, y_test = train_test_split(X, Y, test_size=0.4, random_state=42)\n",
    "\n",
    "logreg_model.fit(X_train, y_train)\n",
    "decision_tree_model.fit(X_train, y_train)\n",
    "random_forest_model.fit(X_train, y_train)\n",
    "\n",
    "logreg_predictions = logreg_model.predict(X_test)\n",
    "decision_tree_predictions = decision_tree_model.predict(X_test)\n",
    "random_forest_predictions = random_forest_model.predict(X_test)\n",
    "\n",
    "# Calculate accuracy scores\n",
    "logreg_accuracy = accuracy_score(y_test, logreg_predictions)\n",
    "decision_tree_accuracy = accuracy_score(y_test, decision_tree_predictions)\n",
    "random_forest_accuracy = accuracy_score(y_test, random_forest_predictions)\n",
    "\n",
    "# Print the accuracy scores\n",
    "print(\"Logistic Regression Accuracy:\", logreg_accuracy)\n",
    "print(\"Decision Tree Accuracy:\", decision_tree_accuracy)\n",
    "print(\"Random Forest Accuracy:\", random_forest_accuracy)\n"
   ]
  },
  {
   "cell_type": "markdown",
   "id": "bd9db083",
   "metadata": {
    "papermill": {
     "duration": 0.033973,
     "end_time": "2023-08-11T07:39:06.547261",
     "exception": false,
     "start_time": "2023-08-11T07:39:06.513288",
     "status": "completed"
    },
    "tags": []
   },
   "source": [
    "Random Forest Model has good accuracy and so proceeding with Random Forest"
   ]
  },
  {
   "cell_type": "code",
   "execution_count": 49,
   "id": "1ebccddd",
   "metadata": {
    "execution": {
     "iopub.execute_input": "2023-08-11T07:39:06.620546Z",
     "iopub.status.busy": "2023-08-11T07:39:06.619713Z",
     "iopub.status.idle": "2023-08-11T07:39:06.926170Z",
     "shell.execute_reply": "2023-08-11T07:39:06.924612Z"
    },
    "papermill": {
     "duration": 0.347579,
     "end_time": "2023-08-11T07:39:06.929210",
     "exception": false,
     "start_time": "2023-08-11T07:39:06.581631",
     "status": "completed"
    },
    "tags": []
   },
   "outputs": [],
   "source": [
    "model = RandomForestClassifier()\n",
    "model.fit(X,Y)\n",
    "pred_surv = model.predict(X_Test)\n"
   ]
  },
  {
   "cell_type": "code",
   "execution_count": 50,
   "id": "33673e45",
   "metadata": {
    "execution": {
     "iopub.execute_input": "2023-08-11T07:39:07.001198Z",
     "iopub.status.busy": "2023-08-11T07:39:07.000372Z",
     "iopub.status.idle": "2023-08-11T07:39:07.010034Z",
     "shell.execute_reply": "2023-08-11T07:39:07.008828Z"
    },
    "papermill": {
     "duration": 0.048846,
     "end_time": "2023-08-11T07:39:07.012683",
     "exception": false,
     "start_time": "2023-08-11T07:39:06.963837",
     "status": "completed"
    },
    "tags": []
   },
   "outputs": [
    {
     "data": {
      "text/plain": [
       "array([0, 0, 0, 1, 1, 0, 0, 0, 1, 0, 0, 0, 1, 0, 1, 1, 0, 0, 0, 1, 0, 0,\n",
       "       1, 1, 1, 0, 1, 1, 1, 0, 0, 0, 1, 0, 0, 0, 0, 0, 0, 1, 0, 0, 0, 1,\n",
       "       1, 0, 0, 0, 1, 1, 0, 0, 1, 1, 0, 0, 0, 0, 0, 1, 0, 1, 0, 1, 1, 0,\n",
       "       1, 0, 0, 1, 1, 0, 0, 1, 1, 0, 0, 1, 0, 1, 1, 0, 1, 0, 0, 0, 1, 1,\n",
       "       0, 1, 1, 1, 0, 0, 1, 0, 1, 0, 0, 0, 1, 0, 0, 0, 1, 0, 0, 0, 0, 0,\n",
       "       0, 1, 1, 0, 1, 1, 0, 1, 0, 1, 1, 0, 1, 0, 0, 0, 0, 1, 0, 0, 0, 0,\n",
       "       0, 0, 0, 0, 0, 0, 0, 0, 0, 1, 1, 0, 1, 0, 0, 0, 0, 0, 1, 0, 0, 1,\n",
       "       0, 0, 1, 0, 1, 0, 1, 1, 1, 1, 0, 0, 0, 0, 1, 0, 1, 0, 0, 0, 0, 1,\n",
       "       1, 0, 1, 1, 0, 1, 1, 0, 1, 0, 1, 0, 0, 0, 0, 0, 1, 0, 1, 0, 1, 0,\n",
       "       0, 0, 1, 1, 1, 1, 0, 1, 0, 0, 1, 0, 0, 1, 0, 1, 0, 1, 1, 0, 1, 0,\n",
       "       1, 0, 1, 0, 0, 0, 0, 1, 0, 0, 0, 1, 0, 0, 1, 0, 0, 1, 1, 1, 1, 1,\n",
       "       1, 0, 0, 1, 1, 0, 1, 0, 1, 0, 0, 0, 0, 1, 0, 0, 1, 0, 0, 0, 1, 1,\n",
       "       0, 0, 0, 1, 0, 0, 0, 0, 1, 1, 0, 1, 0, 0, 0, 0, 0, 1, 1, 0, 1, 0,\n",
       "       1, 0, 0, 0, 0, 0, 0, 0, 0, 0, 1, 0, 0, 0, 1, 0, 0, 0, 1, 1, 0, 1,\n",
       "       0, 0, 0, 1, 1, 0, 1, 1, 0, 0, 1, 0, 0, 0, 0, 0, 1, 0, 1, 0, 0, 0,\n",
       "       1, 0, 0, 0, 1, 0, 1, 0, 0, 1, 0, 1, 0, 1, 1, 0, 0, 1, 0, 1, 1, 0,\n",
       "       0, 0, 1, 1, 1, 0, 0, 0, 0, 1, 1, 1, 1, 0, 0, 0, 1, 0, 0, 1, 0, 0,\n",
       "       1, 1, 0, 0, 0, 0, 0, 0, 0, 0, 1, 1, 0, 0, 0, 1, 0, 1, 0, 0, 0, 1,\n",
       "       0, 1, 0, 0, 1, 0, 1, 0, 0, 0, 0, 0, 1, 0, 1, 1, 0, 0, 1, 0, 0, 0])"
      ]
     },
     "execution_count": 50,
     "metadata": {},
     "output_type": "execute_result"
    }
   ],
   "source": [
    "pred_surv"
   ]
  },
  {
   "cell_type": "code",
   "execution_count": 51,
   "id": "a2007ba9",
   "metadata": {
    "execution": {
     "iopub.execute_input": "2023-08-11T07:39:07.084763Z",
     "iopub.status.busy": "2023-08-11T07:39:07.083748Z",
     "iopub.status.idle": "2023-08-11T07:39:07.094076Z",
     "shell.execute_reply": "2023-08-11T07:39:07.092737Z"
    },
    "papermill": {
     "duration": 0.049482,
     "end_time": "2023-08-11T07:39:07.096919",
     "exception": false,
     "start_time": "2023-08-11T07:39:07.047437",
     "status": "completed"
    },
    "tags": []
   },
   "outputs": [],
   "source": [
    "output = pd.DataFrame({'PassengerId': test_df.PassengerId, 'Survived': pred_surv})\n",
    "output.to_csv('submission.csv', index=False)"
   ]
  }
 ],
 "metadata": {
  "kernelspec": {
   "display_name": "Python 3",
   "language": "python",
   "name": "python3"
  },
  "language_info": {
   "codemirror_mode": {
    "name": "ipython",
    "version": 3
   },
   "file_extension": ".py",
   "mimetype": "text/x-python",
   "name": "python",
   "nbconvert_exporter": "python",
   "pygments_lexer": "ipython3",
   "version": "3.10.12"
  },
  "papermill": {
   "default_parameters": {},
   "duration": 45.492707,
   "end_time": "2023-08-11T07:39:08.254999",
   "environment_variables": {},
   "exception": null,
   "input_path": "__notebook__.ipynb",
   "output_path": "__notebook__.ipynb",
   "parameters": {},
   "start_time": "2023-08-11T07:38:22.762292",
   "version": "2.4.0"
  }
 },
 "nbformat": 4,
 "nbformat_minor": 5
}
